{
 "cells": [
  {
   "cell_type": "markdown",
   "metadata": {
    "toc": true
   },
   "source": [
    "<h1>Índice<span class=\"tocSkip\"></span></h1>\n",
    "<div class=\"toc\"><ul class=\"toc-item\"><li><span><a href=\"#Introdução\" data-toc-modified-id=\"Introdução-1\"><span class=\"toc-item-num\">1&nbsp;&nbsp;</span>Introdução</a></span></li><li><span><a href=\"#Contexto-da-análise\" data-toc-modified-id=\"Contexto-da-análise-2\"><span class=\"toc-item-num\">2&nbsp;&nbsp;</span>Contexto da análise</a></span></li><li><span><a href=\"#Limpeza-dos-dados\" data-toc-modified-id=\"Limpeza-dos-dados-3\"><span class=\"toc-item-num\">3&nbsp;&nbsp;</span>Limpeza dos dados</a></span></li><li><span><a href=\"#Análise-Exploratória\" data-toc-modified-id=\"Análise-Exploratória-4\"><span class=\"toc-item-num\">4&nbsp;&nbsp;</span>Análise Exploratória</a></span><ul class=\"toc-item\"><li><span><a href=\"#Como-se-comportam-os-gastos-com-cotas-parlamentares-ao-longo-do-tempo?-Existe-alguma-tendência-de-aumento-ou-redução-desse-custo?-Existe-sazonalidade?\" data-toc-modified-id=\"Como-se-comportam-os-gastos-com-cotas-parlamentares-ao-longo-do-tempo?-Existe-alguma-tendência-de-aumento-ou-redução-desse-custo?-Existe-sazonalidade?-4.1\"><span class=\"toc-item-num\">4.1&nbsp;&nbsp;</span>Como se comportam os gastos com cotas parlamentares ao longo do tempo? Existe alguma tendência de aumento ou redução desse custo? Existe sazonalidade?</a></span></li><li><span><a href=\"#Quais-foram-os-parlamentares-que-mais-consumiram-recursos-?-E-quais-foram-os-que-menos-consumiram-recursos?\" data-toc-modified-id=\"Quais-foram-os-parlamentares-que-mais-consumiram-recursos-?-E-quais-foram-os-que-menos-consumiram-recursos?-4.2\"><span class=\"toc-item-num\">4.2&nbsp;&nbsp;</span>Quais foram os parlamentares que mais consumiram recursos ? E quais foram os que menos consumiram recursos?</a></span></li><li><span><a href=\"#Políticos-que-usaram-menos-valor-das-cotas-paralamentares:\" data-toc-modified-id=\"Políticos-que-usaram-menos-valor-das-cotas-paralamentares:-4.3\"><span class=\"toc-item-num\">4.3&nbsp;&nbsp;</span>Políticos que usaram menos valor das cotas paralamentares:</a></span></li><li><span><a href=\"#Quais-são-as-categorias-de-despesas-mais-onerosas-dentre-os-recursos-destinados-às-cotas-parlamentares?\" data-toc-modified-id=\"Quais-são-as-categorias-de-despesas-mais-onerosas-dentre-os-recursos-destinados-às-cotas-parlamentares?-4.4\"><span class=\"toc-item-num\">4.4&nbsp;&nbsp;</span>Quais são as categorias de despesas mais onerosas dentre os recursos destinados às cotas parlamentares?</a></span></li><li><span><a href=\"#Qual-é-o-gasto-por-estado?\" data-toc-modified-id=\"Qual-é-o-gasto-por-estado?-4.5\"><span class=\"toc-item-num\">4.5&nbsp;&nbsp;</span>Qual é o gasto por estado?</a></span></li><li><span><a href=\"#Qual-estado-tem-maior-número-de-representantes-?\" data-toc-modified-id=\"Qual-estado-tem-maior-número-de-representantes-?-4.6\"><span class=\"toc-item-num\">4.6&nbsp;&nbsp;</span>Qual estado tem maior número de representantes ?</a></span></li><li><span><a href=\"#Quais-partidos-mais-consomem-a-cota-parlamentar-e-quais-tem-o-maior-número-de-representantes-?\" data-toc-modified-id=\"Quais-partidos-mais-consomem-a-cota-parlamentar-e-quais-tem-o-maior-número-de-representantes-?-4.7\"><span class=\"toc-item-num\">4.7&nbsp;&nbsp;</span>Quais partidos mais consomem a cota parlamentar e quais tem o maior número de representantes ?</a></span></li><li><span><a href=\"#Quais-parlamentares-tem-a-maior-média-de-gastos?\" data-toc-modified-id=\"Quais-parlamentares-tem-a-maior-média-de-gastos?-4.8\"><span class=\"toc-item-num\">4.8&nbsp;&nbsp;</span>Quais parlamentares tem a maior média de gastos?</a></span></li><li><span><a href=\"#Combustíveis-e-lubrificantes\" data-toc-modified-id=\"Combustíveis-e-lubrificantes-4.9\"><span class=\"toc-item-num\">4.9&nbsp;&nbsp;</span>Combustíveis e lubrificantes</a></span></li></ul></li><li><span><a href=\"#Conclusão\" data-toc-modified-id=\"Conclusão-5\"><span class=\"toc-item-num\">5&nbsp;&nbsp;</span>Conclusão</a></span></li></ul></div>"
   ]
  },
  {
   "cell_type": "markdown",
   "metadata": {
    "lang": "pt"
   },
   "source": [
    "# Analise dos gastos com cotas parlamentares\n",
    "\n",
    "\n",
    "### Proposta de análise:\n",
    "\n",
    "Aqui me proponho a realizar uma análise exploratória sobre as **despesas com cotas parlamentares do congresso nacional no período de 2009 à 2017**. \n",
    "\n",
    "As cotas parlamentares são um valor de reembolso ao qual os políticos (senadores e deputados) tem direito, para gastos relacionados exclusivamente ao exercício de sua função. O reembolso pode ser solicitado para gastos com alimentação, locomoção, contratação de serviços entre outros. Os dados utilizados foram extraídos do [portal de dados abertos](http://www2.camara.leg.br/transparencia/cota-para-exercicio-da-atividade-parlamentar/dados-abertos-cota-parlamentar) da câmara federal. A a descrição dos dados está disponível [Aqui](http://www2.camara.leg.br/transparencia/cota-para-exercicio-da-atividade-parlamentar/explicacoes-sobre-o-formato-dos-arquivos-xml).\n",
    "\n",
    "O análise será realizada passando pelas seguintes etapas:\n",
    "\n",
    "   \n",
    "### 1. Carga, limpeza e transformação dos dados:\n",
    "\n",
    "Nessa etapa irei explorar o conjunto de dados em busca de anomalias que precisam ser tratadas para viabilizar a devida análise. Isso envolve detectar valores ausentes, corrigir o formato de dados armazenados de forma incorreta e criar e/ou transformar os dados a partir dos atributos existentes. \n",
    "\n",
    "### 2. Análise exploratória\n",
    "\n",
    "Após finalizar o tratamento e preparação dos dados, iniciarei a análise exploratória dos dados. \n",
    "\n",
    "\n",
    "### 3. Conclusão\n",
    "\n",
    "Nessa seção demonstrarei as conclusões da análise e compartilharei os ***insghts*** descobertos, bem como novas possíveis linhas de análise.\n",
    "\n",
    "\n",
    "Então, mãos à obra! \n",
    "\n",
    "                             ................................................................."
   ]
  },
  {
   "cell_type": "markdown",
   "metadata": {},
   "source": [
    "# Introdução\n",
    "\n",
    "Aprender data science não é fácil. É prazeroso, mas não é fácil. Descobri isso ao longo da minha jornada que se iniciou no meio de 2018. São tantas informações e tantas técnicas para dominar que é fácil se sentir perdido em meio a um mar de informações. \n",
    "\n",
    "Desde o início do meu caminho já aprendi muitas coisas, mas recentemente tenho me sentido um pouco perdido. A mesma vontade que me impele a seguir em frente, em alguns momentos se torna ansiedade. Ansiedade de aprender e me sentir preparado para exercer a função de cientista de dados. Mas não adianta querer acelerar o tempo, o caminho dos dados é longo, como já li em muitos artigos publicados aqui: esse caminho é uma maratona, não é uma prova de velocidade. \n",
    "\n",
    "A virada de ano foi o momento no qual decidi colocar no papel (literalmente) todas as minhas conquistas e apredizados de 2018 e também colocar o pé no freio, respirar fundo, limpar minha mente e planejar o que quero aprender em 2019. \n",
    "\n",
    "Pensando dessa forma, darei foco na atividade, que na minha opinião, é a de maior importância para qualquer um que pretende trilhar o caminho dos dados: a Análise Exploratória de dados a popular EDA (do inglês Exploratory Data Analysis).\n",
    "\n",
    "É essencial para um cientista de dados conhecer os dados com os quais está trabalhando, suas relações, tendências, distribuições e tantas outras caraterísticas. Mas como disse, nada de dar um salto. Quero seguir um passo de cada vez. Por este motivo neste artigo pretendo realizar uma simples exploração de dados a fim de exercitar os princípios mais básicos dessa técnica, que consiste em simplesmente fazer perguntas e usar os dados para respondê-las.\n",
    "\n",
    "Assim, devagar e sempre, seguimos no caminho dos dados. "
   ]
  },
  {
   "cell_type": "markdown",
   "metadata": {},
   "source": [
    "# Contexto da análise\n",
    "\n",
    "Para este exercício iremos usar o conjunto de dados sobre a Cota para o Exercício da Atividade Parlamentar, a CEAP. Em resumo, a CEAP pode ser definida como _\"cota única mensal destinada a custear os gastos dos deputados exclusivamente vinculados ao exercício da atividade parlamentar.\"_.\n",
    "\n",
    "Em outras palavras, a CEAP é uma espécie de ajuda de custos (e bem gorda por sinal) que nossos dignissímos representantes podem usar para arcar com gastos referentes a alimentação, transporte, hospedagem, consultoria técnica, combustíveis e tantos outros.\n",
    "\n",
    "A CEAP é regida por uma série de regras que podem ser consultadas [aqui](http://www2.camara.leg.br/legin/int/atomes/2009/atodamesa-43-21-maio-2009-588364-norma-cd-mesa.html). Mas a ideia fundamental desse artigo é desenvolver um exercício de exploração de dados, sem entrar em pormenores técnicos da legislação. Uma exploração mais profunda e infinitamente mais arrojada desses dados pode ser acompanhada no site da operação [Serenta de Amor](https://serenata.ai/), uma iniciativa que visa fiscalizar os gastos realizados pelos nossos políticos. É realmente um iniciativa que coloca o poder da ciência de dados para trabalhar a favor do povo.\n",
    "\n",
    "A análise se dividirá em três etapas:\n",
    "\n",
    "1. Limpeza dos dados: Consiste na carga, verificação das características que compõem o conjunto, preenchimento de dados ausentes(quando possível), formatação e ajustes gerais para viabilizar a análise adequada. O foco aqui é falar sobre as descobertas no conjunto de dados, então você pode consultar este processo, bem como todo o material desse trabalho no **meu repositório do github, é só clicar [aqui](https://github.com/BnoScience/Gastos-Parlamentares)**;\n",
    "\n",
    "\n",
    "\n",
    "2. Análise exploratória: A análise propriamente dita. Após a etapa anterior, podemos elaborar as questões que acreditamos que o conjunto de dados possa fornecer as respostas;\n",
    "\n",
    "\n",
    "\n",
    "3. Conclusão: Resumir as descobertas realizadas.\n",
    "\n",
    "Os dados que utilizaremos contemplarão o período de tempo entre 2015 e 2017, pois representam a legislatura mais recente (não utilizaremos os dados de 2018, pois estes ainda estão incompletos).\n",
    "\n",
    "Mãos à obra!\n"
   ]
  },
  {
   "cell_type": "markdown",
   "metadata": {},
   "source": [
    "# Limpeza dos dados"
   ]
  },
  {
   "cell_type": "markdown",
   "metadata": {},
   "source": [
    "Importanto as bibliotecas necessárias para a análise e carregando os dados."
   ]
  },
  {
   "cell_type": "code",
   "execution_count": 1,
   "metadata": {},
   "outputs": [
    {
     "data": {
      "text/html": [
       "<script type=\"text/javascript\">window.PlotlyConfig = {MathJaxConfig: 'local'};</script><script type=\"text/javascript\">if (window.MathJax) {MathJax.Hub.Config({SVG: {font: \"STIX-Web\"}});}</script><script>requirejs.config({paths: { 'plotly': ['https://cdn.plot.ly/plotly-latest.min']},});if(!window._Plotly) {require(['plotly'],function(plotly) {window._Plotly=plotly;});}</script>"
      ],
      "text/vnd.plotly.v1+html": [
       "<script type=\"text/javascript\">window.PlotlyConfig = {MathJaxConfig: 'local'};</script><script type=\"text/javascript\">if (window.MathJax) {MathJax.Hub.Config({SVG: {font: \"STIX-Web\"}});}</script><script>requirejs.config({paths: { 'plotly': ['https://cdn.plot.ly/plotly-latest.min']},});if(!window._Plotly) {require(['plotly'],function(plotly) {window._Plotly=plotly;});}</script>"
      ]
     },
     "metadata": {},
     "output_type": "display_data"
    }
   ],
   "source": [
    "import pandas as pd # para manipulação e limpeza dos dados\n",
    "import numpy as np  # operações matemáticas e com vetores\n",
    "\n",
    "from datetime import datetime # módulo para uso de ferramentas de data e hora\n",
    "\n",
    "%matplotlib inline\n",
    "\n",
    "\n",
    "import matplotlib.pyplot as plt # gráficos\n",
    "import seaborn as sns           # gráficos e ferramentas de estatísticas\n",
    "sns.set_style('whitegrid')\n",
    "\n",
    "# configurações padrão para os gráficos\n",
    "\n",
    "\n",
    "plt.rc('figure', figsize=(10,8))\n",
    "plt.style.use('ggplot')\n",
    "\n",
    "# Plotly umas das bibliotecas mais incríveis para dataviz ! Irei usá-la neste caso devido a escala dos valores do dataset (na casa de centenas\n",
    "# de milhões, essa biblioteca torna a leitura desses valores muito mais clara) \n",
    "\n",
    "from plotly import __version__\n",
    "from plotly.offline import download_plotlyjs, init_notebook_mode, plot, iplot\n",
    "import plotly.graph_objs as go\n",
    "init_notebook_mode(connected=True)\n",
    "\n",
    "# Setups\n",
    "pd.set_option('display.float_format', lambda x: '%.3f' % x)\n",
    "sns.set(style='white', context='notebook', palette='deep')\n",
    "import warnings\n",
    "warnings.filterwarnings('ignore')\n",
    "sns.set_style('white')\n",
    "%matplotlib inline\n",
    "\n"
   ]
  },
  {
   "cell_type": "markdown",
   "metadata": {},
   "source": [
    "Um bom cientista de dados, precisa saber comunicar seus resultados. É muito mais conveniente apresentar dados através de gráficos simples e bonitos. Nessa análise, optei por usar a biblioteca **plotly**. Essa biblioteca exije um pouco mais de codificação do que a tradicional **matplotlib**, justamente por este fato, o ideal é criar algumas funções de plotagem para os gráficos que serão mais utilizados.\n",
    "\n",
    "O esforço vale a pena, pois entre tantas outras vantagens, as escalas dos eixos são ajustadas automaticamente, ideal para essa análise tendo em vista que os valores são da casa dos milhões. A matplotlib ajustaria as escalas em notação científica, numeração com a qual a maioria das audiências não é muito familiarizada (eu inclusive). Então usar a plotly é a escolha certa neste caso! \n",
    "\n",
    "O uso dessa ferramenta parece um pouco complicada no início, mas com um pouco de paciência e usando os excelentes [tutorias](https://plot.ly/python/) disponíveis na sua documentação, você dominará seu uso em pouco tempo! \n",
    "\n",
    "Você também pode consultar estes excelentes artigos publicados aqui no Medium.\n",
    "\n",
    "* [Introduction to Interactive Time Series Visualizations with Plotly in Python](https://towardsdatascience.com/introduction-to-interactive-time-series-visualizations-with-plotly-in-python-d3219eb7a7af) por Will Koehrsen\n",
    "\n",
    "\n",
    "\n",
    "* [Como criar gráficos interativos utilizando Plotly e Python](https://paulovasconcellos.com.br/como-criar-gr%C3%A1ficos-interativos-utilizando-plotly-e-python-3eb6eda57a2b) por Paulo Vasconcelos.\n",
    "\n"
   ]
  },
  {
   "cell_type": "code",
   "execution_count": 4,
   "metadata": {},
   "outputs": [],
   "source": [
    "# Criando as funções para plotagem\n",
    "\n",
    "############################# Barras ######################################################\n",
    "\n",
    "def plot_bar(dados, graf_title=None, xaxis_title=None, yaxis_title=None, color=None):\n",
    "    \n",
    "    '''Plota gráfico de barras da Plotly\n",
    "    \n",
    "    Dados: Dados agrupados em duas colunas\n",
    "    \n",
    "    graf_tile:  string Título do gráfico\n",
    "    \n",
    "    xaxis_title: string Título eixo x\n",
    "    \n",
    "    yaxis_title: string Título do eixo y\n",
    "    \n",
    "    '''\n",
    "    \n",
    "    dados_a = dict(dados)\n",
    "    y_vals = dados.values\n",
    "    x_vals = dados_a.keys()\n",
    "    x_vals = list(x_vals)\n",
    "    \n",
    "    dados_b = [go.Bar(x= x_vals,\n",
    "                   y = y_vals,\n",
    "                marker = dict(color=color),\n",
    "                  orientation= 'v')]\n",
    "    \n",
    "    \n",
    "    layout = go.Layout(title= graf_title, \n",
    "                   yaxis=dict(autorange=True, title= yaxis_title,\n",
    "                              tickfont=dict(size=12)\n",
    "                             ), xaxis=dict(title= xaxis_title, tickfont=dict(size=8)))\n",
    "\n",
    "\n",
    "\n",
    "    fig = go.Figure(data=dados_b, layout=layout)\n",
    "    iplot(fig, filename='basic-bar')\n",
    "    \n",
    "############################# Pizza ######################################################\n",
    "\n",
    "def graf_pie(dados, graf_title=None):\n",
    "    \n",
    "    '''Plota gráfico de pizza da Plotly\n",
    "    \n",
    "    Dados: Dados agrupados em duas colunas\n",
    "    \n",
    "    graf_tile:  string Título do gráfico\n",
    "    \n",
    "        \n",
    "    '''\n",
    "    dados = dict(dados)\n",
    "    labels = list(dados.keys())\n",
    "    values = list(dados.values())\n",
    "\n",
    "    pie = go.Pie(labels=labels, values=values, title=graf_title)\n",
    "\n",
    "    iplot([pie], filename='pie basico')\n"
   ]
  },
  {
   "cell_type": "markdown",
   "metadata": {},
   "source": [
    "O conjunto de dados tem um número considerável de colunas. Essas são as colunas que irei utilizar nessa análise:\n",
    "\n",
    "*  txNomeParlamentar - Nome do parlamentar;\n",
    "*  sgUF - Sigla do estado que o parlamentar representa;\n",
    "*  sgPartido - Sigla do partido;\n",
    "*  txtDescricao - Descrição do tipo de despesa;\n",
    "*  vlrLiquido - O valor que será reembolsado para o parlamentar;\n",
    "*  numMes - Mês do reembolso;\n",
    "*  numAno - Ano do reembolso.\n",
    "\n",
    "Todas as colunas e suas respectivas explicações podem ser encontradas [aqui](http://www2.camara.leg.br/transparencia/cota-para-exercicio-da-atividade-parlamentar/explicacoes-sobre-o-formato-dos-arquivos-xml).\n"
   ]
  },
  {
   "cell_type": "markdown",
   "metadata": {},
   "source": [
    "Carga dos dados: crio um loop `for` para carregar todos os datasets e em seguida uso a função `concat()` do pandas para unir todos os arquivos em um único dataframe."
   ]
  },
  {
   "cell_type": "code",
   "execution_count": 10,
   "metadata": {},
   "outputs": [],
   "source": [
    "anos = range(2015,2018) # Até 2018, pois range exclui o último valor\n",
    "\n",
    "# Lista com as colunas que serão mantidas para análise\n",
    "colunas = ['txNomeParlamentar', 'sgUF', 'sgPartido','txtDescricao', 'vlrLiquido', 'numMes', 'numAno']\n",
    "\n",
    "dfs = []\n",
    "\n",
    "for ano in anos:\n",
    "    df = pd.read_csv('Ano-{}.csv'.format(ano), sep=';', error_bad_lines=True, usecols=colunas,  index_col=False)\n",
    "    dfs.append(df)\n",
    "    df_completo = pd.concat(dfs, ignore_index=True)\n",
    "    \n",
    "\n",
    "# Renomeando as colunas em letra minúscula para facilitar a manipulação e deixar mais intuitivo\n",
    "\n",
    "cols = ['nome_parlamentar', 'uf', 'partido', 'desc_despesa', 'vlr_despesa', 'mes_despesa', 'ano_despesa']\n",
    "\n",
    "df_completo.columns = cols\n",
    "    "
   ]
  },
  {
   "cell_type": "markdown",
   "metadata": {},
   "source": [
    "Essas são as primeiras 5 linhas do conjuntos de dados, que possui 1.076637 linhas e 7 colunas:"
   ]
  },
  {
   "cell_type": "code",
   "execution_count": 11,
   "metadata": {},
   "outputs": [
    {
     "data": {
      "text/html": [
       "<div>\n",
       "<style scoped>\n",
       "    .dataframe tbody tr th:only-of-type {\n",
       "        vertical-align: middle;\n",
       "    }\n",
       "\n",
       "    .dataframe tbody tr th {\n",
       "        vertical-align: top;\n",
       "    }\n",
       "\n",
       "    .dataframe thead th {\n",
       "        text-align: right;\n",
       "    }\n",
       "</style>\n",
       "<table border=\"1\" class=\"dataframe\">\n",
       "  <thead>\n",
       "    <tr style=\"text-align: right;\">\n",
       "      <th></th>\n",
       "      <th>nome_parlamentar</th>\n",
       "      <th>uf</th>\n",
       "      <th>partido</th>\n",
       "      <th>desc_despesa</th>\n",
       "      <th>vlr_despesa</th>\n",
       "      <th>mes_despesa</th>\n",
       "      <th>ano_despesa</th>\n",
       "    </tr>\n",
       "  </thead>\n",
       "  <tbody>\n",
       "    <tr>\n",
       "      <th>0</th>\n",
       "      <td>ABEL MESQUITA JR.</td>\n",
       "      <td>RR</td>\n",
       "      <td>DEM</td>\n",
       "      <td>MANUTENÇÃO DE ESCRITÓRIO DE APOIO À ATIVIDADE ...</td>\n",
       "      <td>165,65</td>\n",
       "      <td>11</td>\n",
       "      <td>2015</td>\n",
       "    </tr>\n",
       "    <tr>\n",
       "      <th>1</th>\n",
       "      <td>ABEL MESQUITA JR.</td>\n",
       "      <td>RR</td>\n",
       "      <td>DEM</td>\n",
       "      <td>MANUTENÇÃO DE ESCRITÓRIO DE APOIO À ATIVIDADE ...</td>\n",
       "      <td>59,48</td>\n",
       "      <td>12</td>\n",
       "      <td>2015</td>\n",
       "    </tr>\n",
       "    <tr>\n",
       "      <th>2</th>\n",
       "      <td>ABEL MESQUITA JR.</td>\n",
       "      <td>RR</td>\n",
       "      <td>DEM</td>\n",
       "      <td>MANUTENÇÃO DE ESCRITÓRIO DE APOIO À ATIVIDADE ...</td>\n",
       "      <td>130,95</td>\n",
       "      <td>11</td>\n",
       "      <td>2015</td>\n",
       "    </tr>\n",
       "    <tr>\n",
       "      <th>3</th>\n",
       "      <td>ABEL MESQUITA JR.</td>\n",
       "      <td>RR</td>\n",
       "      <td>DEM</td>\n",
       "      <td>MANUTENÇÃO DE ESCRITÓRIO DE APOIO À ATIVIDADE ...</td>\n",
       "      <td>193,06</td>\n",
       "      <td>12</td>\n",
       "      <td>2015</td>\n",
       "    </tr>\n",
       "    <tr>\n",
       "      <th>4</th>\n",
       "      <td>ABEL MESQUITA JR.</td>\n",
       "      <td>RR</td>\n",
       "      <td>DEM</td>\n",
       "      <td>MANUTENÇÃO DE ESCRITÓRIO DE APOIO À ATIVIDADE ...</td>\n",
       "      <td>310,25</td>\n",
       "      <td>2</td>\n",
       "      <td>2015</td>\n",
       "    </tr>\n",
       "  </tbody>\n",
       "</table>\n",
       "</div>"
      ],
      "text/plain": [
       "    nome_parlamentar  uf partido  \\\n",
       "0  ABEL MESQUITA JR.  RR     DEM   \n",
       "1  ABEL MESQUITA JR.  RR     DEM   \n",
       "2  ABEL MESQUITA JR.  RR     DEM   \n",
       "3  ABEL MESQUITA JR.  RR     DEM   \n",
       "4  ABEL MESQUITA JR.  RR     DEM   \n",
       "\n",
       "                                        desc_despesa vlr_despesa  mes_despesa  \\\n",
       "0  MANUTENÇÃO DE ESCRITÓRIO DE APOIO À ATIVIDADE ...      165,65           11   \n",
       "1  MANUTENÇÃO DE ESCRITÓRIO DE APOIO À ATIVIDADE ...       59,48           12   \n",
       "2  MANUTENÇÃO DE ESCRITÓRIO DE APOIO À ATIVIDADE ...      130,95           11   \n",
       "3  MANUTENÇÃO DE ESCRITÓRIO DE APOIO À ATIVIDADE ...      193,06           12   \n",
       "4  MANUTENÇÃO DE ESCRITÓRIO DE APOIO À ATIVIDADE ...      310,25            2   \n",
       "\n",
       "   ano_despesa  \n",
       "0         2015  \n",
       "1         2015  \n",
       "2         2015  \n",
       "3         2015  \n",
       "4         2015  "
      ]
     },
     "execution_count": 11,
     "metadata": {},
     "output_type": "execute_result"
    }
   ],
   "source": [
    "df_completo.head() # Confirmando se tudo correu bem"
   ]
  },
  {
   "cell_type": "code",
   "execution_count": 12,
   "metadata": {},
   "outputs": [
    {
     "data": {
      "text/html": [
       "<div>\n",
       "<style scoped>\n",
       "    .dataframe tbody tr th:only-of-type {\n",
       "        vertical-align: middle;\n",
       "    }\n",
       "\n",
       "    .dataframe tbody tr th {\n",
       "        vertical-align: top;\n",
       "    }\n",
       "\n",
       "    .dataframe thead th {\n",
       "        text-align: right;\n",
       "    }\n",
       "</style>\n",
       "<table border=\"1\" class=\"dataframe\">\n",
       "  <thead>\n",
       "    <tr style=\"text-align: right;\">\n",
       "      <th></th>\n",
       "      <th>nome_parlamentar</th>\n",
       "      <th>uf</th>\n",
       "      <th>partido</th>\n",
       "      <th>desc_despesa</th>\n",
       "      <th>vlr_despesa</th>\n",
       "      <th>mes_despesa</th>\n",
       "      <th>ano_despesa</th>\n",
       "    </tr>\n",
       "  </thead>\n",
       "  <tbody>\n",
       "    <tr>\n",
       "      <th>1076632</th>\n",
       "      <td>ZENAIDE MAIA</td>\n",
       "      <td>RN</td>\n",
       "      <td>PHS</td>\n",
       "      <td>Emissão Bilhete Aéreo</td>\n",
       "      <td>-24</td>\n",
       "      <td>8</td>\n",
       "      <td>2017</td>\n",
       "    </tr>\n",
       "    <tr>\n",
       "      <th>1076633</th>\n",
       "      <td>ZENAIDE MAIA</td>\n",
       "      <td>RN</td>\n",
       "      <td>PHS</td>\n",
       "      <td>Emissão Bilhete Aéreo</td>\n",
       "      <td>-298</td>\n",
       "      <td>8</td>\n",
       "      <td>2017</td>\n",
       "    </tr>\n",
       "    <tr>\n",
       "      <th>1076634</th>\n",
       "      <td>ZENAIDE MAIA</td>\n",
       "      <td>RN</td>\n",
       "      <td>PHS</td>\n",
       "      <td>Emissão Bilhete Aéreo</td>\n",
       "      <td>-6,29</td>\n",
       "      <td>9</td>\n",
       "      <td>2017</td>\n",
       "    </tr>\n",
       "    <tr>\n",
       "      <th>1076635</th>\n",
       "      <td>ZENAIDE MAIA</td>\n",
       "      <td>RN</td>\n",
       "      <td>PHS</td>\n",
       "      <td>Emissão Bilhete Aéreo</td>\n",
       "      <td>-394</td>\n",
       "      <td>9</td>\n",
       "      <td>2017</td>\n",
       "    </tr>\n",
       "    <tr>\n",
       "      <th>1076636</th>\n",
       "      <td>ZENAIDE MAIA</td>\n",
       "      <td>RN</td>\n",
       "      <td>PHS</td>\n",
       "      <td>Emissão Bilhete Aéreo</td>\n",
       "      <td>-58</td>\n",
       "      <td>11</td>\n",
       "      <td>2017</td>\n",
       "    </tr>\n",
       "  </tbody>\n",
       "</table>\n",
       "</div>"
      ],
      "text/plain": [
       "        nome_parlamentar  uf partido           desc_despesa vlr_despesa  \\\n",
       "1076632     ZENAIDE MAIA  RN     PHS  Emissão Bilhete Aéreo         -24   \n",
       "1076633     ZENAIDE MAIA  RN     PHS  Emissão Bilhete Aéreo        -298   \n",
       "1076634     ZENAIDE MAIA  RN     PHS  Emissão Bilhete Aéreo       -6,29   \n",
       "1076635     ZENAIDE MAIA  RN     PHS  Emissão Bilhete Aéreo        -394   \n",
       "1076636     ZENAIDE MAIA  RN     PHS  Emissão Bilhete Aéreo         -58   \n",
       "\n",
       "         mes_despesa  ano_despesa  \n",
       "1076632            8         2017  \n",
       "1076633            8         2017  \n",
       "1076634            9         2017  \n",
       "1076635            9         2017  \n",
       "1076636           11         2017  "
      ]
     },
     "execution_count": 12,
     "metadata": {},
     "output_type": "execute_result"
    }
   ],
   "source": [
    "df_completo.tail() # as últimas 5 linhas do dataset."
   ]
  },
  {
   "cell_type": "code",
   "execution_count": 13,
   "metadata": {},
   "outputs": [
    {
     "name": "stdout",
     "output_type": "stream",
     "text": [
      "O conjunto de dados é composto por 1076637 linhas e 7 colunas.\n"
     ]
    }
   ],
   "source": [
    "print(\"O conjunto de dados é composto por {} linhas e {} colunas.\".format(df_completo.shape[0],df_completo.shape[1]))"
   ]
  },
  {
   "cell_type": "code",
   "execution_count": 14,
   "metadata": {
    "scrolled": true
   },
   "outputs": [
    {
     "data": {
      "text/plain": [
       "partido             2548\n",
       "uf                  2548\n",
       "ano_despesa            0\n",
       "mes_despesa            0\n",
       "vlr_despesa            0\n",
       "desc_despesa           0\n",
       "nome_parlamentar       0\n",
       "dtype: int64"
      ]
     },
     "execution_count": 14,
     "metadata": {},
     "output_type": "execute_result"
    }
   ],
   "source": [
    "df_completo.isnull().sum().sort_values(ascending=False) # Avaliando valores nulos e tipos de dados"
   ]
  },
  {
   "cell_type": "code",
   "execution_count": 16,
   "metadata": {},
   "outputs": [
    {
     "name": "stdout",
     "output_type": "stream",
     "text": [
      "<class 'pandas.core.frame.DataFrame'>\n",
      "RangeIndex: 1076637 entries, 0 to 1076636\n",
      "Data columns (total 7 columns):\n",
      "nome_parlamentar    1076637 non-null object\n",
      "uf                  1074089 non-null object\n",
      "partido             1074089 non-null object\n",
      "desc_despesa        1076637 non-null object\n",
      "vlr_despesa         1076637 non-null object\n",
      "mes_despesa         1076637 non-null int64\n",
      "ano_despesa         1076637 non-null int64\n",
      "dtypes: int64(2), object(5)\n",
      "memory usage: 57.5+ MB\n"
     ]
    }
   ],
   "source": [
    "df_completo.info() # Verificando os tipos de dados do dataset"
   ]
  },
  {
   "cell_type": "markdown",
   "metadata": {},
   "source": [
    "**uf**, **partido** e **desc_especifica** apresentam valores ausentes. A última apresenta um número considerável. Iremos analisar a melhor estratégia para tratar este problema.\n",
    "\n",
    "**Formatação dos dados**:\n",
    "\n",
    "A coluna **vlr_despesa** precisa ser convertida para dado numérico, no caso, `float` pois refere-se a valores contábeis. Ao que tudo indica, essas são as únicas alterações necessárias.\n",
    "\n"
   ]
  },
  {
   "cell_type": "markdown",
   "metadata": {},
   "source": [
    "Precisamos tratar as colunas **uf** e **partido**. Pensando que o foco da análise está voltada para entender os gastos, não vejo problema em preencher estes dados com a informação \"Sem informação\". Assim não perdemos dados relativos aos gastos, o dado mais importante para essa análise. "
   ]
  },
  {
   "cell_type": "code",
   "execution_count": 18,
   "metadata": {},
   "outputs": [],
   "source": [
    "df_completo.uf.fillna('Sem informação', inplace=True)\n",
    "\n",
    "df_completo.partido.fillna('Sem informação', inplace=True)"
   ]
  },
  {
   "cell_type": "code",
   "execution_count": 19,
   "metadata": {},
   "outputs": [
    {
     "data": {
      "text/plain": [
       "nome_parlamentar    0\n",
       "uf                  0\n",
       "partido             0\n",
       "desc_despesa        0\n",
       "vlr_despesa         0\n",
       "mes_despesa         0\n",
       "ano_despesa         0\n",
       "dtype: int64"
      ]
     },
     "execution_count": 19,
     "metadata": {},
     "output_type": "execute_result"
    }
   ],
   "source": [
    "# Confirmando se ainda existem valores nulos\n",
    "df_completo.isnull().sum()"
   ]
  },
  {
   "cell_type": "markdown",
   "metadata": {},
   "source": [
    "Não temos mais valors nulos em nosso conjunto de dados. Precisamos apenas converter os dados relativos aos gastos de `object` para `float`."
   ]
  },
  {
   "cell_type": "markdown",
   "metadata": {},
   "source": [
    "***Convertendo os valores da coluna vlr_despesa:***"
   ]
  },
  {
   "cell_type": "code",
   "execution_count": 20,
   "metadata": {},
   "outputs": [
    {
     "name": "stdout",
     "output_type": "stream",
     "text": [
      "<class 'pandas.core.frame.DataFrame'>\n",
      "RangeIndex: 1076637 entries, 0 to 1076636\n",
      "Data columns (total 7 columns):\n",
      "nome_parlamentar    1076637 non-null object\n",
      "uf                  1076637 non-null object\n",
      "partido             1076637 non-null object\n",
      "desc_despesa        1076637 non-null object\n",
      "vlr_despesa         1076637 non-null float64\n",
      "mes_despesa         1076637 non-null int64\n",
      "ano_despesa         1076637 non-null int64\n",
      "dtypes: float64(1), int64(2), object(4)\n",
      "memory usage: 57.5+ MB\n"
     ]
    }
   ],
   "source": [
    "valor = df_completo.vlr_despesa\n",
    "valor = [float(x.replace(',','.')) for x in valor ] # Usando um loop para substituir a vírgula por ponto...\n",
    "valor = pd.Series(valor) # Convertendo o resultado para uma série do pandas\n",
    "df_completo['vlr_despesa'] = valor\n",
    "df_completo.info()"
   ]
  },
  {
   "cell_type": "markdown",
   "metadata": {},
   "source": [
    "Dado convertido com sucesso ! "
   ]
  },
  {
   "cell_type": "markdown",
   "metadata": {},
   "source": [
    "Uma alteração que pode vir a ser útil é criar uma nova coluna que chamarei de **data**. Essa coluna terá o formato `datetime`, ela permitirá gerar visualizações da evolução dos dados ao longo do tempo. É muito simples realizar essa alteração, utilizada o método pd.to_datetime do pandas. Mas antes, precisamos converter os dados de mes e ano, para `object`."
   ]
  },
  {
   "cell_type": "code",
   "execution_count": 21,
   "metadata": {},
   "outputs": [],
   "source": [
    "\n",
    "\n",
    "data = df_completo.mes_despesa.astype(str) + \"-\" + df_completo.ano_despesa.astype(str) # Concatena as duas informações com um \"-\" como separador\n",
    "\n",
    "data = pd.DatetimeIndex(data) # Converte os dados para o formato datetime\n",
    "\n"
   ]
  },
  {
   "cell_type": "code",
   "execution_count": 22,
   "metadata": {},
   "outputs": [
    {
     "data": {
      "text/html": [
       "<div>\n",
       "<style scoped>\n",
       "    .dataframe tbody tr th:only-of-type {\n",
       "        vertical-align: middle;\n",
       "    }\n",
       "\n",
       "    .dataframe tbody tr th {\n",
       "        vertical-align: top;\n",
       "    }\n",
       "\n",
       "    .dataframe thead th {\n",
       "        text-align: right;\n",
       "    }\n",
       "</style>\n",
       "<table border=\"1\" class=\"dataframe\">\n",
       "  <thead>\n",
       "    <tr style=\"text-align: right;\">\n",
       "      <th></th>\n",
       "      <th>nome_parlamentar</th>\n",
       "      <th>uf</th>\n",
       "      <th>partido</th>\n",
       "      <th>desc_despesa</th>\n",
       "      <th>vlr_despesa</th>\n",
       "      <th>mes_despesa</th>\n",
       "      <th>ano_despesa</th>\n",
       "      <th>data</th>\n",
       "    </tr>\n",
       "  </thead>\n",
       "  <tbody>\n",
       "    <tr>\n",
       "      <th>0</th>\n",
       "      <td>ABEL MESQUITA JR.</td>\n",
       "      <td>RR</td>\n",
       "      <td>DEM</td>\n",
       "      <td>MANUTENÇÃO DE ESCRITÓRIO DE APOIO À ATIVIDADE ...</td>\n",
       "      <td>165.650</td>\n",
       "      <td>11</td>\n",
       "      <td>2015</td>\n",
       "      <td>2015-11-01</td>\n",
       "    </tr>\n",
       "    <tr>\n",
       "      <th>1</th>\n",
       "      <td>ABEL MESQUITA JR.</td>\n",
       "      <td>RR</td>\n",
       "      <td>DEM</td>\n",
       "      <td>MANUTENÇÃO DE ESCRITÓRIO DE APOIO À ATIVIDADE ...</td>\n",
       "      <td>59.480</td>\n",
       "      <td>12</td>\n",
       "      <td>2015</td>\n",
       "      <td>2015-12-01</td>\n",
       "    </tr>\n",
       "    <tr>\n",
       "      <th>2</th>\n",
       "      <td>ABEL MESQUITA JR.</td>\n",
       "      <td>RR</td>\n",
       "      <td>DEM</td>\n",
       "      <td>MANUTENÇÃO DE ESCRITÓRIO DE APOIO À ATIVIDADE ...</td>\n",
       "      <td>130.950</td>\n",
       "      <td>11</td>\n",
       "      <td>2015</td>\n",
       "      <td>2015-11-01</td>\n",
       "    </tr>\n",
       "    <tr>\n",
       "      <th>3</th>\n",
       "      <td>ABEL MESQUITA JR.</td>\n",
       "      <td>RR</td>\n",
       "      <td>DEM</td>\n",
       "      <td>MANUTENÇÃO DE ESCRITÓRIO DE APOIO À ATIVIDADE ...</td>\n",
       "      <td>193.060</td>\n",
       "      <td>12</td>\n",
       "      <td>2015</td>\n",
       "      <td>2015-12-01</td>\n",
       "    </tr>\n",
       "    <tr>\n",
       "      <th>4</th>\n",
       "      <td>ABEL MESQUITA JR.</td>\n",
       "      <td>RR</td>\n",
       "      <td>DEM</td>\n",
       "      <td>MANUTENÇÃO DE ESCRITÓRIO DE APOIO À ATIVIDADE ...</td>\n",
       "      <td>310.250</td>\n",
       "      <td>2</td>\n",
       "      <td>2015</td>\n",
       "      <td>2015-02-01</td>\n",
       "    </tr>\n",
       "  </tbody>\n",
       "</table>\n",
       "</div>"
      ],
      "text/plain": [
       "    nome_parlamentar  uf partido  \\\n",
       "0  ABEL MESQUITA JR.  RR     DEM   \n",
       "1  ABEL MESQUITA JR.  RR     DEM   \n",
       "2  ABEL MESQUITA JR.  RR     DEM   \n",
       "3  ABEL MESQUITA JR.  RR     DEM   \n",
       "4  ABEL MESQUITA JR.  RR     DEM   \n",
       "\n",
       "                                        desc_despesa  vlr_despesa  \\\n",
       "0  MANUTENÇÃO DE ESCRITÓRIO DE APOIO À ATIVIDADE ...      165.650   \n",
       "1  MANUTENÇÃO DE ESCRITÓRIO DE APOIO À ATIVIDADE ...       59.480   \n",
       "2  MANUTENÇÃO DE ESCRITÓRIO DE APOIO À ATIVIDADE ...      130.950   \n",
       "3  MANUTENÇÃO DE ESCRITÓRIO DE APOIO À ATIVIDADE ...      193.060   \n",
       "4  MANUTENÇÃO DE ESCRITÓRIO DE APOIO À ATIVIDADE ...      310.250   \n",
       "\n",
       "   mes_despesa  ano_despesa       data  \n",
       "0           11         2015 2015-11-01  \n",
       "1           12         2015 2015-12-01  \n",
       "2           11         2015 2015-11-01  \n",
       "3           12         2015 2015-12-01  \n",
       "4            2         2015 2015-02-01  "
      ]
     },
     "execution_count": 22,
     "metadata": {},
     "output_type": "execute_result"
    }
   ],
   "source": [
    "df_completo['data'] = data # Cria a coluna \"data\" e a preenche com os dados em formato datetime\n",
    "df_completo.head()"
   ]
  },
  {
   "cell_type": "markdown",
   "metadata": {},
   "source": [
    "# Análise Exploratória\n",
    "\n",
    "Agora que os dados estão limpos e preparados, podemos iniciar a nossa exploração. Iremos começar com perguntas bem básicas a fim de conhecer melhor o conjunto de dados. De acordo com as características do conjunto de dados acredito que poderemos responder facilmente as seguintes questões.\n",
    "\n",
    "\n",
    "a. Como se comportam os gastos com cotas parlamentares ao longo do tempo? Existe alguma tendência de aumento ou redução desse custo? Existe sazonalidade?\n",
    "\n",
    "b. Quais foram os parlamentares que mais consumiram recursos? \n",
    "\n",
    "c. Quais foram os que menos consumiram recursos?\n",
    "\n",
    "d. Quais são as categorias de despesas mais onerosas dentre os recursos destinados às cotas\n",
    "parlamentares?\n",
    "\n",
    "e. Qual é o gasto por estado?\n",
    "\n",
    "f. Quais estados tem maior número de representantes?\n",
    "\n",
    "g. Quais partidos mais consomem a cota parlamentar?\n",
    "\n",
    "h. Qual a média de gastos por parlamentar?\n",
    "\n",
    "\n",
    "Ao final, investigaremos a relação dos gastos com combustíveis e o valor médio do combustível para responder se a variação desses gastos são explicadas pela variação do preço do combustível.\n",
    "\n",
    "\n",
    "Primeiramente, vamos usar o método `describe()` do pandas. No meu ponto de vista, essa função é útil tanto para encontrar anomalias que devem ser tratadas, quanto para extrair informações úteis rapidamente através de um resumo estatístico.\n",
    "\n",
    "Usar o argumento `include=\"all\"`, traz as frequências dos dados em formato `object`, o que torna o método ainda mais poderoso.\n"
   ]
  },
  {
   "cell_type": "code",
   "execution_count": 23,
   "metadata": {
    "scrolled": false
   },
   "outputs": [
    {
     "data": {
      "text/html": [
       "<div>\n",
       "<style scoped>\n",
       "    .dataframe tbody tr th:only-of-type {\n",
       "        vertical-align: middle;\n",
       "    }\n",
       "\n",
       "    .dataframe tbody tr th {\n",
       "        vertical-align: top;\n",
       "    }\n",
       "\n",
       "    .dataframe thead th {\n",
       "        text-align: right;\n",
       "    }\n",
       "</style>\n",
       "<table border=\"1\" class=\"dataframe\">\n",
       "  <thead>\n",
       "    <tr style=\"text-align: right;\">\n",
       "      <th></th>\n",
       "      <th>nome_parlamentar</th>\n",
       "      <th>uf</th>\n",
       "      <th>partido</th>\n",
       "      <th>desc_despesa</th>\n",
       "      <th>vlr_despesa</th>\n",
       "      <th>mes_despesa</th>\n",
       "      <th>ano_despesa</th>\n",
       "      <th>data</th>\n",
       "    </tr>\n",
       "  </thead>\n",
       "  <tbody>\n",
       "    <tr>\n",
       "      <th>count</th>\n",
       "      <td>1076637</td>\n",
       "      <td>1076637</td>\n",
       "      <td>1076637</td>\n",
       "      <td>1076637</td>\n",
       "      <td>1076637.000</td>\n",
       "      <td>1076637.000</td>\n",
       "      <td>1076637.000</td>\n",
       "      <td>1076637</td>\n",
       "    </tr>\n",
       "    <tr>\n",
       "      <th>unique</th>\n",
       "      <td>845</td>\n",
       "      <td>28</td>\n",
       "      <td>32</td>\n",
       "      <td>18</td>\n",
       "      <td>nan</td>\n",
       "      <td>nan</td>\n",
       "      <td>nan</td>\n",
       "      <td>36</td>\n",
       "    </tr>\n",
       "    <tr>\n",
       "      <th>top</th>\n",
       "      <td>DIEGO GARCIA</td>\n",
       "      <td>SP</td>\n",
       "      <td>PT</td>\n",
       "      <td>Emissão Bilhete Aéreo</td>\n",
       "      <td>nan</td>\n",
       "      <td>nan</td>\n",
       "      <td>nan</td>\n",
       "      <td>2016-03-01 00:00:00</td>\n",
       "    </tr>\n",
       "    <tr>\n",
       "      <th>freq</th>\n",
       "      <td>6368</td>\n",
       "      <td>170526</td>\n",
       "      <td>139964</td>\n",
       "      <td>340037</td>\n",
       "      <td>nan</td>\n",
       "      <td>nan</td>\n",
       "      <td>nan</td>\n",
       "      <td>37669</td>\n",
       "    </tr>\n",
       "    <tr>\n",
       "      <th>first</th>\n",
       "      <td>NaN</td>\n",
       "      <td>NaN</td>\n",
       "      <td>NaN</td>\n",
       "      <td>NaN</td>\n",
       "      <td>nan</td>\n",
       "      <td>nan</td>\n",
       "      <td>nan</td>\n",
       "      <td>2015-01-01 00:00:00</td>\n",
       "    </tr>\n",
       "    <tr>\n",
       "      <th>last</th>\n",
       "      <td>NaN</td>\n",
       "      <td>NaN</td>\n",
       "      <td>NaN</td>\n",
       "      <td>NaN</td>\n",
       "      <td>nan</td>\n",
       "      <td>nan</td>\n",
       "      <td>nan</td>\n",
       "      <td>2017-12-01 00:00:00</td>\n",
       "    </tr>\n",
       "    <tr>\n",
       "      <th>mean</th>\n",
       "      <td>NaN</td>\n",
       "      <td>NaN</td>\n",
       "      <td>NaN</td>\n",
       "      <td>NaN</td>\n",
       "      <td>614.000</td>\n",
       "      <td>7.000</td>\n",
       "      <td>2016.000</td>\n",
       "      <td>NaN</td>\n",
       "    </tr>\n",
       "    <tr>\n",
       "      <th>std</th>\n",
       "      <td>NaN</td>\n",
       "      <td>NaN</td>\n",
       "      <td>NaN</td>\n",
       "      <td>NaN</td>\n",
       "      <td>2040.000</td>\n",
       "      <td>3.000</td>\n",
       "      <td>1.000</td>\n",
       "      <td>NaN</td>\n",
       "    </tr>\n",
       "    <tr>\n",
       "      <th>min</th>\n",
       "      <td>NaN</td>\n",
       "      <td>NaN</td>\n",
       "      <td>NaN</td>\n",
       "      <td>NaN</td>\n",
       "      <td>-9241.000</td>\n",
       "      <td>1.000</td>\n",
       "      <td>2015.000</td>\n",
       "      <td>NaN</td>\n",
       "    </tr>\n",
       "    <tr>\n",
       "      <th>25%</th>\n",
       "      <td>NaN</td>\n",
       "      <td>NaN</td>\n",
       "      <td>NaN</td>\n",
       "      <td>NaN</td>\n",
       "      <td>49.000</td>\n",
       "      <td>4.000</td>\n",
       "      <td>2015.000</td>\n",
       "      <td>NaN</td>\n",
       "    </tr>\n",
       "    <tr>\n",
       "      <th>50%</th>\n",
       "      <td>NaN</td>\n",
       "      <td>NaN</td>\n",
       "      <td>NaN</td>\n",
       "      <td>NaN</td>\n",
       "      <td>150.000</td>\n",
       "      <td>7.000</td>\n",
       "      <td>2016.000</td>\n",
       "      <td>NaN</td>\n",
       "    </tr>\n",
       "    <tr>\n",
       "      <th>75%</th>\n",
       "      <td>NaN</td>\n",
       "      <td>NaN</td>\n",
       "      <td>NaN</td>\n",
       "      <td>NaN</td>\n",
       "      <td>530.000</td>\n",
       "      <td>9.000</td>\n",
       "      <td>2017.000</td>\n",
       "      <td>NaN</td>\n",
       "    </tr>\n",
       "    <tr>\n",
       "      <th>max</th>\n",
       "      <td>NaN</td>\n",
       "      <td>NaN</td>\n",
       "      <td>NaN</td>\n",
       "      <td>NaN</td>\n",
       "      <td>189600.000</td>\n",
       "      <td>12.000</td>\n",
       "      <td>2017.000</td>\n",
       "      <td>NaN</td>\n",
       "    </tr>\n",
       "  </tbody>\n",
       "</table>\n",
       "</div>"
      ],
      "text/plain": [
       "       nome_parlamentar       uf  partido           desc_despesa  vlr_despesa  \\\n",
       "count           1076637  1076637  1076637                1076637  1076637.000   \n",
       "unique              845       28       32                     18          nan   \n",
       "top        DIEGO GARCIA       SP       PT  Emissão Bilhete Aéreo          nan   \n",
       "freq               6368   170526   139964                 340037          nan   \n",
       "first               NaN      NaN      NaN                    NaN          nan   \n",
       "last                NaN      NaN      NaN                    NaN          nan   \n",
       "mean                NaN      NaN      NaN                    NaN      614.000   \n",
       "std                 NaN      NaN      NaN                    NaN     2040.000   \n",
       "min                 NaN      NaN      NaN                    NaN    -9241.000   \n",
       "25%                 NaN      NaN      NaN                    NaN       49.000   \n",
       "50%                 NaN      NaN      NaN                    NaN      150.000   \n",
       "75%                 NaN      NaN      NaN                    NaN      530.000   \n",
       "max                 NaN      NaN      NaN                    NaN   189600.000   \n",
       "\n",
       "        mes_despesa  ano_despesa                 data  \n",
       "count   1076637.000  1076637.000              1076637  \n",
       "unique          nan          nan                   36  \n",
       "top             nan          nan  2016-03-01 00:00:00  \n",
       "freq            nan          nan                37669  \n",
       "first           nan          nan  2015-01-01 00:00:00  \n",
       "last            nan          nan  2017-12-01 00:00:00  \n",
       "mean          7.000     2016.000                  NaN  \n",
       "std           3.000        1.000                  NaN  \n",
       "min           1.000     2015.000                  NaN  \n",
       "25%           4.000     2015.000                  NaN  \n",
       "50%           7.000     2016.000                  NaN  \n",
       "75%           9.000     2017.000                  NaN  \n",
       "max          12.000     2017.000                  NaN  "
      ]
     },
     "execution_count": 23,
     "metadata": {},
     "output_type": "execute_result"
    }
   ],
   "source": [
    "df_completo.describe(include='all').round()"
   ]
  },
  {
   "cell_type": "markdown",
   "metadata": {},
   "source": [
    "Graças a este método, vejam alguns dados relevantes que já podem ser extraídos sobre a legislatura de 2015 (até o ano de 2017):\n",
    "\n",
    "* A média do valor de cada pedido de reembolso é de 614 reais;\n",
    "\n",
    "* O maior reembolso/pagamento foi de 189 mil reais;\n",
    "\n",
    "* O pedido de reembolso mais frequente refere-se a emissão de bilhete aéreo. O que faz sentido, tendo em vista que a maior parte dos parlamentares não mora em Brasília;\n",
    "\n",
    "* Diego Garcia é o político que mais solicitou reembolsos no período observado.\n",
    "\n",
    "\n",
    "Agora vamos buscar responder as perguntas propostas:"
   ]
  },
  {
   "cell_type": "markdown",
   "metadata": {},
   "source": [
    "## Como se comportam os gastos com cotas parlamentares ao longo do tempo? Existe alguma tendência de aumento ou redução desse custo? Existe sazonalidade?\n",
    "\n",
    "Vamos entender como os gastos com cotas parlamentares evoluíram ao longo do tempo."
   ]
  },
  {
   "cell_type": "code",
   "execution_count": 24,
   "metadata": {},
   "outputs": [
    {
     "data": {
      "application/vnd.plotly.v1+json": {
       "config": {
        "linkText": "Export to plot.ly",
        "plotlyServerURL": "https://plot.ly",
        "showLink": true
       },
       "data": [
        {
         "orientation": "v",
         "type": "bar",
         "uid": "4edf06f5-2235-4aa8-955d-b6e0b62895c2",
         "x": [
          2015,
          2016,
          2017
         ],
         "y": [
          214051005.199986,
          221074024.47998235,
          225901324.54007706
         ]
        }
       ],
       "layout": {
        "title": "Total de Gastos Por Ano",
        "xaxis": {
         "tickfont": {
          "size": 8
         },
         "title": "Ano"
        },
        "yaxis": {
         "autorange": true,
         "tickfont": {
          "size": 12
         },
         "title": "Gastos em R$"
        }
       }
      },
      "text/html": [
       "<div id=\"de5ef9e9-1f05-4f56-a6ec-0713b71fe8fa\" style=\"height: 525px; width: 100%;\" class=\"plotly-graph-div\"></div><script type=\"text/javascript\">require([\"plotly\"], function(Plotly) { window.PLOTLYENV=window.PLOTLYENV || {};window.PLOTLYENV.BASE_URL=\"https://plot.ly\";Plotly.newPlot(\"de5ef9e9-1f05-4f56-a6ec-0713b71fe8fa\", [{\"orientation\": \"v\", \"x\": [2015, 2016, 2017], \"y\": [214051005.199986, 221074024.47998235, 225901324.54007706], \"type\": \"bar\", \"uid\": \"4edf06f5-2235-4aa8-955d-b6e0b62895c2\"}], {\"title\": \"Total de Gastos Por Ano\", \"xaxis\": {\"tickfont\": {\"size\": 8}, \"title\": \"Ano\"}, \"yaxis\": {\"autorange\": true, \"tickfont\": {\"size\": 12}, \"title\": \"Gastos em R$\"}}, {\"showLink\": true, \"linkText\": \"Export to plot.ly\", \"plotlyServerURL\": \"https://plot.ly\"})});</script><script type=\"text/javascript\">window.addEventListener(\"resize\", function(){window._Plotly.Plots.resize(document.getElementById(\"de5ef9e9-1f05-4f56-a6ec-0713b71fe8fa\"));});</script>"
      ],
      "text/vnd.plotly.v1+html": [
       "<div id=\"de5ef9e9-1f05-4f56-a6ec-0713b71fe8fa\" style=\"height: 525px; width: 100%;\" class=\"plotly-graph-div\"></div><script type=\"text/javascript\">require([\"plotly\"], function(Plotly) { window.PLOTLYENV=window.PLOTLYENV || {};window.PLOTLYENV.BASE_URL=\"https://plot.ly\";Plotly.newPlot(\"de5ef9e9-1f05-4f56-a6ec-0713b71fe8fa\", [{\"orientation\": \"v\", \"x\": [2015, 2016, 2017], \"y\": [214051005.199986, 221074024.47998235, 225901324.54007706], \"type\": \"bar\", \"uid\": \"4edf06f5-2235-4aa8-955d-b6e0b62895c2\"}], {\"title\": \"Total de Gastos Por Ano\", \"xaxis\": {\"tickfont\": {\"size\": 8}, \"title\": \"Ano\"}, \"yaxis\": {\"autorange\": true, \"tickfont\": {\"size\": 12}, \"title\": \"Gastos em R$\"}}, {\"showLink\": true, \"linkText\": \"Export to plot.ly\", \"plotlyServerURL\": \"https://plot.ly\"})});</script><script type=\"text/javascript\">window.addEventListener(\"resize\", function(){window._Plotly.Plots.resize(document.getElementById(\"de5ef9e9-1f05-4f56-a6ec-0713b71fe8fa\"));});</script>"
      ]
     },
     "metadata": {},
     "output_type": "display_data"
    }
   ],
   "source": [
    "# Agrupando os dados pelo ano e somando o valor das despesas\n",
    "gastos_anuais = df_completo.groupby('ano_despesa')['vlr_despesa'].sum()\n",
    "\n",
    "# Plotando os valores usando a função criada\n",
    "plot_bar(gastos_anuais, \"Total de Gastos Por Ano\", \"Ano\", \"Gastos em R$\") "
   ]
  },
  {
   "cell_type": "markdown",
   "metadata": {},
   "source": [
    "\n",
    "Em 2016 os gastos atingiram 221 milhões. A título de curiosidade, entre 2015 e 2016 o Brasil esteve mergulhado em uma de suas maiores recesssões, tendo quedas consecutivas no PIB, sendo -3,8% e -3,6% em 2015 e 2016 respectivamente. Mesmo a [pior crise desde 1945](http://g1.globo.com/jornal-hoje/noticia/2017/03/brasil-vive-pior-recessao-da-historia.html), não parece ter afetado o crescimento dos gastos dos parlamentares.\n",
    "\n"
   ]
  },
  {
   "cell_type": "markdown",
   "metadata": {},
   "source": [
    "Vamos verificar se existe sazonalidade nos gastos com cotas. Para isso, vamos plotar os últimos três anos dos gastos parlamentares em um gráfico de linhas, usando a nova variável \"data\"."
   ]
  },
  {
   "cell_type": "code",
   "execution_count": 25,
   "metadata": {},
   "outputs": [
    {
     "data": {
      "application/vnd.plotly.v1+json": {
       "config": {
        "linkText": "Export to plot.ly",
        "plotlyServerURL": "https://plot.ly",
        "showLink": true
       },
       "data": [
        {
         "orientation": "v",
         "type": "scatter",
         "uid": "433241ca-8897-4a0d-a6bc-3fffb5874693",
         "x": [
          "2015-01-01",
          "2015-02-01",
          "2015-03-01",
          "2015-04-01",
          "2015-05-01",
          "2015-06-01",
          "2015-07-01",
          "2015-08-01",
          "2015-09-01",
          "2015-10-01",
          "2015-11-01",
          "2015-12-01",
          "2016-01-01",
          "2016-02-01",
          "2016-03-01",
          "2016-04-01",
          "2016-05-01",
          "2016-06-01",
          "2016-07-01",
          "2016-08-01",
          "2016-09-01",
          "2016-10-01",
          "2016-11-01",
          "2016-12-01",
          "2017-01-01",
          "2017-02-01",
          "2017-03-01",
          "2017-04-01",
          "2017-05-01",
          "2017-06-01",
          "2017-07-01",
          "2017-08-01",
          "2017-09-01",
          "2017-10-01",
          "2017-11-01",
          "2017-12-01"
         ],
         "y": [
          12843139.629999712,
          13378365.659999304,
          17615471.569999084,
          17151482.179998994,
          18121866.20999907,
          17844423.669999253,
          17734544.269999273,
          19465930.549999718,
          19444280.389999934,
          19227939.399999835,
          18575581.819999777,
          22647979.84999961,
          13377455.289999954,
          17150614.009999957,
          20390339.26999955,
          18639987.55999995,
          19707779.45999992,
          18823515.080000166,
          17065395.07000025,
          18699134.249999736,
          16833104.649999525,
          19285857.969999418,
          19813633.00999932,
          21287208.85999949,
          14115248.949999781,
          17693519.859999787,
          19849730.01000006,
          19015617.909999967,
          20023021.239999954,
          19308686.710000068,
          18212925.14000006,
          20477149.28999986,
          19330421.15000008,
          19980406.149999913,
          18659084.72000001,
          19235513.41000005
         ]
        }
       ],
       "layout": {
        "title": "Evolução anual dos gastos 2015 - 2017",
        "xaxis": {
         "tickfont": {
          "size": 10
         },
         "title": "Ano"
        },
        "yaxis": {
         "autorange": true,
         "tickfont": {
          "size": 12
         },
         "title": "Gastos em R$"
        }
       }
      },
      "text/html": [
       "<div id=\"a91a1f74-22f3-4147-8e8f-7317c07b7376\" style=\"height: 525px; width: 100%;\" class=\"plotly-graph-div\"></div><script type=\"text/javascript\">require([\"plotly\"], function(Plotly) { window.PLOTLYENV=window.PLOTLYENV || {};window.PLOTLYENV.BASE_URL=\"https://plot.ly\";Plotly.newPlot(\"a91a1f74-22f3-4147-8e8f-7317c07b7376\", [{\"orientation\": \"v\", \"x\": [\"2015-01-01\", \"2015-02-01\", \"2015-03-01\", \"2015-04-01\", \"2015-05-01\", \"2015-06-01\", \"2015-07-01\", \"2015-08-01\", \"2015-09-01\", \"2015-10-01\", \"2015-11-01\", \"2015-12-01\", \"2016-01-01\", \"2016-02-01\", \"2016-03-01\", \"2016-04-01\", \"2016-05-01\", \"2016-06-01\", \"2016-07-01\", \"2016-08-01\", \"2016-09-01\", \"2016-10-01\", \"2016-11-01\", \"2016-12-01\", \"2017-01-01\", \"2017-02-01\", \"2017-03-01\", \"2017-04-01\", \"2017-05-01\", \"2017-06-01\", \"2017-07-01\", \"2017-08-01\", \"2017-09-01\", \"2017-10-01\", \"2017-11-01\", \"2017-12-01\"], \"y\": [12843139.629999712, 13378365.659999304, 17615471.569999084, 17151482.179998994, 18121866.20999907, 17844423.669999253, 17734544.269999273, 19465930.549999718, 19444280.389999934, 19227939.399999835, 18575581.819999777, 22647979.84999961, 13377455.289999954, 17150614.009999957, 20390339.26999955, 18639987.55999995, 19707779.45999992, 18823515.080000166, 17065395.07000025, 18699134.249999736, 16833104.649999525, 19285857.969999418, 19813633.00999932, 21287208.85999949, 14115248.949999781, 17693519.859999787, 19849730.01000006, 19015617.909999967, 20023021.239999954, 19308686.710000068, 18212925.14000006, 20477149.28999986, 19330421.15000008, 19980406.149999913, 18659084.72000001, 19235513.41000005], \"type\": \"scatter\", \"uid\": \"433241ca-8897-4a0d-a6bc-3fffb5874693\"}], {\"title\": \"Evolu\\u00e7\\u00e3o anual dos gastos 2015 - 2017\", \"xaxis\": {\"tickfont\": {\"size\": 10}, \"title\": \"Ano\"}, \"yaxis\": {\"autorange\": true, \"tickfont\": {\"size\": 12}, \"title\": \"Gastos em R$\"}}, {\"showLink\": true, \"linkText\": \"Export to plot.ly\", \"plotlyServerURL\": \"https://plot.ly\"})});</script><script type=\"text/javascript\">window.addEventListener(\"resize\", function(){window._Plotly.Plots.resize(document.getElementById(\"a91a1f74-22f3-4147-8e8f-7317c07b7376\"));});</script>"
      ],
      "text/vnd.plotly.v1+html": [
       "<div id=\"a91a1f74-22f3-4147-8e8f-7317c07b7376\" style=\"height: 525px; width: 100%;\" class=\"plotly-graph-div\"></div><script type=\"text/javascript\">require([\"plotly\"], function(Plotly) { window.PLOTLYENV=window.PLOTLYENV || {};window.PLOTLYENV.BASE_URL=\"https://plot.ly\";Plotly.newPlot(\"a91a1f74-22f3-4147-8e8f-7317c07b7376\", [{\"orientation\": \"v\", \"x\": [\"2015-01-01\", \"2015-02-01\", \"2015-03-01\", \"2015-04-01\", \"2015-05-01\", \"2015-06-01\", \"2015-07-01\", \"2015-08-01\", \"2015-09-01\", \"2015-10-01\", \"2015-11-01\", \"2015-12-01\", \"2016-01-01\", \"2016-02-01\", \"2016-03-01\", \"2016-04-01\", \"2016-05-01\", \"2016-06-01\", \"2016-07-01\", \"2016-08-01\", \"2016-09-01\", \"2016-10-01\", \"2016-11-01\", \"2016-12-01\", \"2017-01-01\", \"2017-02-01\", \"2017-03-01\", \"2017-04-01\", \"2017-05-01\", \"2017-06-01\", \"2017-07-01\", \"2017-08-01\", \"2017-09-01\", \"2017-10-01\", \"2017-11-01\", \"2017-12-01\"], \"y\": [12843139.629999712, 13378365.659999304, 17615471.569999084, 17151482.179998994, 18121866.20999907, 17844423.669999253, 17734544.269999273, 19465930.549999718, 19444280.389999934, 19227939.399999835, 18575581.819999777, 22647979.84999961, 13377455.289999954, 17150614.009999957, 20390339.26999955, 18639987.55999995, 19707779.45999992, 18823515.080000166, 17065395.07000025, 18699134.249999736, 16833104.649999525, 19285857.969999418, 19813633.00999932, 21287208.85999949, 14115248.949999781, 17693519.859999787, 19849730.01000006, 19015617.909999967, 20023021.239999954, 19308686.710000068, 18212925.14000006, 20477149.28999986, 19330421.15000008, 19980406.149999913, 18659084.72000001, 19235513.41000005], \"type\": \"scatter\", \"uid\": \"433241ca-8897-4a0d-a6bc-3fffb5874693\"}], {\"title\": \"Evolu\\u00e7\\u00e3o anual dos gastos 2015 - 2017\", \"xaxis\": {\"tickfont\": {\"size\": 10}, \"title\": \"Ano\"}, \"yaxis\": {\"autorange\": true, \"tickfont\": {\"size\": 12}, \"title\": \"Gastos em R$\"}}, {\"showLink\": true, \"linkText\": \"Export to plot.ly\", \"plotlyServerURL\": \"https://plot.ly\"})});</script><script type=\"text/javascript\">window.addEventListener(\"resize\", function(){window._Plotly.Plots.resize(document.getElementById(\"a91a1f74-22f3-4147-8e8f-7317c07b7376\"));});</script>"
      ]
     },
     "metadata": {},
     "output_type": "display_data"
    }
   ],
   "source": [
    "# Criando um gráfico de linhas\n",
    "gastos = df_completo.groupby('data')['vlr_despesa'].sum() #Agrupando os gastos por data\n",
    "\n",
    "# Gerando um dicionário e extraindo as chaves e os valores para usar no gráficos\n",
    "anuais = dict(gastos) \n",
    "x = gastos.values\n",
    "y = anuais.keys()\n",
    "y = list(y)\n",
    "\n",
    "data = [go.Line(x= list(y),\n",
    "                 y=x,\n",
    "               orientation= 'v')]\n",
    "\n",
    "# Determinando as características do gráfico\n",
    "layout = go.Layout(title='Evolução anual dos gastos 2015 - 2017', \n",
    "                   yaxis=dict(autorange=True, title= 'Gastos em R$',\n",
    "                              tickfont=dict(size=12)\n",
    "                             ), xaxis=dict(title='Ano', tickfont=dict(size=10)))\n",
    "\n",
    "\n",
    "\n",
    "fig = go.Figure(data=data, layout=layout)\n",
    "iplot(fig)"
   ]
  },
  {
   "cell_type": "markdown",
   "metadata": {},
   "source": [
    "Observando o gráfico acima, parece haver um certo padrão de comportamento. Os gastos são sempre menores no início do ano e tem um pico em dezembro. O que explicaria esse padrão ? O recesso parlamentar pode ser uma explicação.\n",
    "\n",
    "Aqui podemos responder nossa primeira questão. É claro que há uma tendência de alta nos gastos com cotas, como vimos no gráfico de barras, e existe um padrão cíclico nestes gastos que podemos chamar de sazonalidade."
   ]
  },
  {
   "cell_type": "markdown",
   "metadata": {},
   "source": [
    "## Quais foram os parlamentares que mais consumiram recursos ? E quais foram os que menos consumiram recursos?\n",
    "\n",
    "\n",
    "Vamos descobrir quem são os paralamentares com maiores gastos."
   ]
  },
  {
   "cell_type": "code",
   "execution_count": 26,
   "metadata": {},
   "outputs": [
    {
     "data": {
      "application/vnd.plotly.v1+json": {
       "config": {
        "linkText": "Export to plot.ly",
        "plotlyServerURL": "https://plot.ly",
        "showLink": true
       },
       "data": [
        {
         "marker": {
          "color": "blue"
         },
         "orientation": "v",
         "type": "bar",
         "uid": "97e7f14b-f1bb-46e8-8dd0-87bfc53eeb48",
         "x": [
          "EDIO LOPES",
          "JHONATAN DE JESUS",
          "REMÍDIO MONAI",
          "HIRAN GONÇALVES",
          "ROCHA"
         ],
         "y": [
          1648222.679999997,
          1638567.3499999982,
          1607339.679999996,
          1603496.7099999997,
          1598483.5499999945
         ]
        }
       ],
       "layout": {
        "title": "Os 5 Parlamentares com maior volume de gastos",
        "xaxis": {
         "tickfont": {
          "size": 8
         },
         "title": "Parlamentar"
        },
        "yaxis": {
         "autorange": true,
         "tickfont": {
          "size": 12
         },
         "title": "Gastos em R$"
        }
       }
      },
      "text/html": [
       "<div id=\"35847fdc-573e-4dbc-838f-35d8619eb746\" style=\"height: 525px; width: 100%;\" class=\"plotly-graph-div\"></div><script type=\"text/javascript\">require([\"plotly\"], function(Plotly) { window.PLOTLYENV=window.PLOTLYENV || {};window.PLOTLYENV.BASE_URL=\"https://plot.ly\";Plotly.newPlot(\"35847fdc-573e-4dbc-838f-35d8619eb746\", [{\"marker\": {\"color\": \"blue\"}, \"orientation\": \"v\", \"x\": [\"EDIO LOPES\", \"JHONATAN DE JESUS\", \"REM\\u00cdDIO MONAI\", \"HIRAN GON\\u00c7ALVES\", \"ROCHA\"], \"y\": [1648222.679999997, 1638567.3499999982, 1607339.679999996, 1603496.7099999997, 1598483.5499999945], \"type\": \"bar\", \"uid\": \"97e7f14b-f1bb-46e8-8dd0-87bfc53eeb48\"}], {\"title\": \"Os 5 Parlamentares com maior volume de gastos\", \"xaxis\": {\"tickfont\": {\"size\": 8}, \"title\": \"Parlamentar\"}, \"yaxis\": {\"autorange\": true, \"tickfont\": {\"size\": 12}, \"title\": \"Gastos em R$\"}}, {\"showLink\": true, \"linkText\": \"Export to plot.ly\", \"plotlyServerURL\": \"https://plot.ly\"})});</script><script type=\"text/javascript\">window.addEventListener(\"resize\", function(){window._Plotly.Plots.resize(document.getElementById(\"35847fdc-573e-4dbc-838f-35d8619eb746\"));});</script>"
      ],
      "text/vnd.plotly.v1+html": [
       "<div id=\"35847fdc-573e-4dbc-838f-35d8619eb746\" style=\"height: 525px; width: 100%;\" class=\"plotly-graph-div\"></div><script type=\"text/javascript\">require([\"plotly\"], function(Plotly) { window.PLOTLYENV=window.PLOTLYENV || {};window.PLOTLYENV.BASE_URL=\"https://plot.ly\";Plotly.newPlot(\"35847fdc-573e-4dbc-838f-35d8619eb746\", [{\"marker\": {\"color\": \"blue\"}, \"orientation\": \"v\", \"x\": [\"EDIO LOPES\", \"JHONATAN DE JESUS\", \"REM\\u00cdDIO MONAI\", \"HIRAN GON\\u00c7ALVES\", \"ROCHA\"], \"y\": [1648222.679999997, 1638567.3499999982, 1607339.679999996, 1603496.7099999997, 1598483.5499999945], \"type\": \"bar\", \"uid\": \"97e7f14b-f1bb-46e8-8dd0-87bfc53eeb48\"}], {\"title\": \"Os 5 Parlamentares com maior volume de gastos\", \"xaxis\": {\"tickfont\": {\"size\": 8}, \"title\": \"Parlamentar\"}, \"yaxis\": {\"autorange\": true, \"tickfont\": {\"size\": 12}, \"title\": \"Gastos em R$\"}}, {\"showLink\": true, \"linkText\": \"Export to plot.ly\", \"plotlyServerURL\": \"https://plot.ly\"})});</script><script type=\"text/javascript\">window.addEventListener(\"resize\", function(){window._Plotly.Plots.resize(document.getElementById(\"35847fdc-573e-4dbc-838f-35d8619eb746\"));});</script>"
      ]
     },
     "metadata": {},
     "output_type": "display_data"
    }
   ],
   "source": [
    "# Agrupando pelo nome do parlamentar e somando seus gastos\n",
    "maiores_gastos = df_completo.groupby('nome_parlamentar')['vlr_despesa'].sum().sort_values(ascending=False).head(5)\n",
    "\n",
    "plot_bar(maiores_gastos, \"Os 5 Parlamentares com maior volume de gastos\", \"Parlamentar\", \"Gastos em R$\", \"blue\")"
   ]
  },
  {
   "cell_type": "markdown",
   "metadata": {},
   "source": [
    "Top 5 parlamentares que mais gastaram na legislatura 2015:\n",
    "\n",
    "* Edio Lopes;\n",
    "* Jhonatan De Jesus;\n",
    "* Silas Remídio Monai;\n",
    "* Hiran Golçalves;\n",
    "* Rocha (?).\n",
    "\n",
    "\n",
    "Edio Lopes, o líder desse ranking, gastou mais de 1.6Mi ao longo de 36 meses. Para se ter uma ideia, com este dinheiro seria possível pagar 1648 salários mínimos, que atualmente é de 998 reias. O político gastou cerca de 45mil reais por mês. De acordo com a lei da CEAP, por representar o estado de Roraima o deputado teria um limite mensal de gastos de 45 mil reais, na média, o parlamentar está estritamente dentro do limte.\n",
    "\n",
    "O político está em sua terceira legislatura.\n",
    "\n"
   ]
  },
  {
   "cell_type": "markdown",
   "metadata": {},
   "source": [
    "## Políticos que usaram menos valor das cotas paralamentares:"
   ]
  },
  {
   "cell_type": "code",
   "execution_count": 27,
   "metadata": {},
   "outputs": [
    {
     "data": {
      "application/vnd.plotly.v1+json": {
       "config": {
        "linkText": "Export to plot.ly",
        "plotlyServerURL": "https://plot.ly",
        "showLink": true
       },
       "data": [
        {
         "marker": {
          "color": "orange"
         },
         "orientation": "v",
         "type": "bar",
         "uid": "d31b1faa-173f-4399-8d1c-f5e58b7c8790",
         "x": [
          "JOÃO CALDAS",
          "ELISEU PADILHA",
          "RUI COSTA",
          "ANTÔNIO ANDRADE",
          "CAMILO COLA"
         ],
         "y": [
          -1791.57,
          -1487.52,
          -376.99,
          -167.37,
          0.62
         ]
        }
       ],
       "layout": {
        "title": "Os 5 parlamentares menos caros",
        "xaxis": {
         "tickfont": {
          "size": 8
         },
         "title": "Parlamentar"
        },
        "yaxis": {
         "autorange": true,
         "tickfont": {
          "size": 12
         },
         "title": "Gastos em R$"
        }
       }
      },
      "text/html": [
       "<div id=\"6dd4cc72-5657-4ffe-a2cd-8df7bbc3b888\" style=\"height: 525px; width: 100%;\" class=\"plotly-graph-div\"></div><script type=\"text/javascript\">require([\"plotly\"], function(Plotly) { window.PLOTLYENV=window.PLOTLYENV || {};window.PLOTLYENV.BASE_URL=\"https://plot.ly\";Plotly.newPlot(\"6dd4cc72-5657-4ffe-a2cd-8df7bbc3b888\", [{\"marker\": {\"color\": \"orange\"}, \"orientation\": \"v\", \"x\": [\"JO\\u00c3O CALDAS\", \"ELISEU PADILHA\", \"RUI COSTA\", \"ANT\\u00d4NIO ANDRADE\", \"CAMILO COLA\"], \"y\": [-1791.57, -1487.52, -376.99, -167.37, 0.62], \"type\": \"bar\", \"uid\": \"d31b1faa-173f-4399-8d1c-f5e58b7c8790\"}], {\"title\": \"Os 5 parlamentares menos caros\", \"xaxis\": {\"tickfont\": {\"size\": 8}, \"title\": \"Parlamentar\"}, \"yaxis\": {\"autorange\": true, \"tickfont\": {\"size\": 12}, \"title\": \"Gastos em R$\"}}, {\"showLink\": true, \"linkText\": \"Export to plot.ly\", \"plotlyServerURL\": \"https://plot.ly\"})});</script><script type=\"text/javascript\">window.addEventListener(\"resize\", function(){window._Plotly.Plots.resize(document.getElementById(\"6dd4cc72-5657-4ffe-a2cd-8df7bbc3b888\"));});</script>"
      ],
      "text/vnd.plotly.v1+html": [
       "<div id=\"6dd4cc72-5657-4ffe-a2cd-8df7bbc3b888\" style=\"height: 525px; width: 100%;\" class=\"plotly-graph-div\"></div><script type=\"text/javascript\">require([\"plotly\"], function(Plotly) { window.PLOTLYENV=window.PLOTLYENV || {};window.PLOTLYENV.BASE_URL=\"https://plot.ly\";Plotly.newPlot(\"6dd4cc72-5657-4ffe-a2cd-8df7bbc3b888\", [{\"marker\": {\"color\": \"orange\"}, \"orientation\": \"v\", \"x\": [\"JO\\u00c3O CALDAS\", \"ELISEU PADILHA\", \"RUI COSTA\", \"ANT\\u00d4NIO ANDRADE\", \"CAMILO COLA\"], \"y\": [-1791.57, -1487.52, -376.99, -167.37, 0.62], \"type\": \"bar\", \"uid\": \"d31b1faa-173f-4399-8d1c-f5e58b7c8790\"}], {\"title\": \"Os 5 parlamentares menos caros\", \"xaxis\": {\"tickfont\": {\"size\": 8}, \"title\": \"Parlamentar\"}, \"yaxis\": {\"autorange\": true, \"tickfont\": {\"size\": 12}, \"title\": \"Gastos em R$\"}}, {\"showLink\": true, \"linkText\": \"Export to plot.ly\", \"plotlyServerURL\": \"https://plot.ly\"})});</script><script type=\"text/javascript\">window.addEventListener(\"resize\", function(){window._Plotly.Plots.resize(document.getElementById(\"6dd4cc72-5657-4ffe-a2cd-8df7bbc3b888\"));});</script>"
      ]
     },
     "metadata": {},
     "output_type": "display_data"
    }
   ],
   "source": [
    "# Agrupando por nome do político e somando, dessa vez, não invertemos o ordenamento do metodo sort_values\n",
    "menores_gastos = df_completo.groupby('nome_parlamentar')['vlr_despesa'].sum().sort_values().head()\n",
    "                    \n",
    "\n",
    "plot_bar(menores_gastos, \"Os 5 parlamentares menos caros\", \"Parlamentar\", \"Gastos em R$\", \"orange\")"
   ]
  },
  {
   "cell_type": "markdown",
   "metadata": {},
   "source": [
    "* João Caldas;\n",
    "* Eliseu Padilha;\n",
    "* Rui Costa;\n",
    "* Antônio Andrade;\n",
    "* camilo Cola.\n",
    "\n",
    "É estranho encontrarmos valores negativos. Será que o parlamentar devolveu dinheiro ? Segundo a explicação dos dados disponível no site da câmara:\n",
    "\n",
    "\"(...)**Quando se tratar de bilhete aéreo, esse valor poderá ser negativo, significando que o referido bilhete é um bilhete de compensação, pois compensa um outro bilhete emitido e não utilizado pelo deputado** (idem para o dado vlrLiquido abaixo).\"\n",
    "\n",
    "Sendo assim, podemos considerar que estes parlamentares são os que menos gastaram. \n",
    "\n",
    "\n",
    "\n",
    "\n",
    "## Quais são as categorias de despesas mais onerosas dentre os recursos destinados às cotas parlamentares?\n",
    "\n"
   ]
  },
  {
   "cell_type": "code",
   "execution_count": 29,
   "metadata": {},
   "outputs": [
    {
     "data": {
      "application/vnd.plotly.v1+json": {
       "config": {
        "linkText": "Export to plot.ly",
        "plotlyServerURL": "https://plot.ly",
        "showLink": true
       },
       "data": [
        {
         "marker": {
          "color": "grey"
         },
         "orientation": "v",
         "type": "bar",
         "uid": "1ecc3c4a-e18c-434d-acff-cbeac8de270d",
         "x": [
          "DIVULGAÇÃO DA ATIVIDADE PARLAMENTAR.",
          "Emissão Bilhete Aéreo",
          "LOCAÇÃO OU FRETAMENTO DE VEÍCULOS AUTOMOTORES",
          "MANUTENÇÃO DE ESCRITÓRIO DE APOIO À ATIVIDADE PARLAMENTAR",
          "CONSULTORIAS, PESQUISAS E TRABALHOS TÉCNICOS.",
          "COMBUSTÍVEIS E LUBRIFICANTES.",
          "TELEFONIA",
          "SERVIÇOS POSTAIS",
          "LOCAÇÃO OU FRETAMENTO DE AERONAVES",
          "PASSAGENS AÉREAS",
          "HOSPEDAGEM ,EXCETO DO PARLAMENTAR NO DISTRITO FEDERAL.",
          "FORNECIMENTO DE ALIMENTAÇÃO DO PARLAMENTAR",
          "SERVIÇO DE SEGURANÇA PRESTADO POR EMPRESA ESPECIALIZADA.",
          "SERVIÇO DE TÁXI, PEDÁGIO E ESTACIONAMENTO",
          "ASSINATURA DE PUBLICAÇÕES",
          "PARTICIPAÇÃO EM CURSO, PALESTRA OU EVENTO SIMILAR",
          "PASSAGENS TERRESTRES, MARÍTIMAS OU FLUVIAIS",
          "LOCAÇÃO OU FRETAMENTO DE EMBARCAÇÕES"
         ],
         "y": [
          158143030.5900005,
          149798845.95004004,
          79105833.5800001,
          71029514.26999854,
          64430366.92000003,
          54612243.33000542,
          34545984.65999737,
          11713029.230000865,
          9016579.01,
          8033283.820000123,
          5863227.860000073,
          5187377.979999903,
          4973256.489999972,
          2754395.4800000014,
          984716.4400000108,
          347154.48000000004,
          312342.97000000026,
          175171.15999999997
         ]
        }
       ],
       "layout": {
        "title": "Gastos por categoria",
        "xaxis": {
         "tickfont": {
          "size": 8
         },
         "title": "Categoria"
        },
        "yaxis": {
         "autorange": true,
         "tickfont": {
          "size": 12
         },
         "title": "Gastos em R$"
        }
       }
      },
      "text/html": [
       "<div id=\"0002e501-3260-4c41-89d8-70930f7c45a7\" style=\"height: 525px; width: 100%;\" class=\"plotly-graph-div\"></div><script type=\"text/javascript\">require([\"plotly\"], function(Plotly) { window.PLOTLYENV=window.PLOTLYENV || {};window.PLOTLYENV.BASE_URL=\"https://plot.ly\";Plotly.newPlot(\"0002e501-3260-4c41-89d8-70930f7c45a7\", [{\"marker\": {\"color\": \"grey\"}, \"orientation\": \"v\", \"x\": [\"DIVULGA\\u00c7\\u00c3O DA ATIVIDADE PARLAMENTAR.\", \"Emiss\\u00e3o Bilhete A\\u00e9reo\", \"LOCA\\u00c7\\u00c3O OU FRETAMENTO DE VE\\u00cdCULOS AUTOMOTORES\", \"MANUTEN\\u00c7\\u00c3O DE ESCRIT\\u00d3RIO DE APOIO \\u00c0 ATIVIDADE PARLAMENTAR\", \"CONSULTORIAS, PESQUISAS E TRABALHOS T\\u00c9CNICOS.\", \"COMBUST\\u00cdVEIS E LUBRIFICANTES.\", \"TELEFONIA\", \"SERVI\\u00c7OS POSTAIS\", \"LOCA\\u00c7\\u00c3O OU FRETAMENTO DE AERONAVES\", \"PASSAGENS A\\u00c9REAS\", \"HOSPEDAGEM ,EXCETO DO PARLAMENTAR NO DISTRITO FEDERAL.\", \"FORNECIMENTO DE ALIMENTA\\u00c7\\u00c3O DO PARLAMENTAR\", \"SERVI\\u00c7O DE SEGURAN\\u00c7A PRESTADO POR EMPRESA ESPECIALIZADA.\", \"SERVI\\u00c7O DE T\\u00c1XI, PED\\u00c1GIO E ESTACIONAMENTO\", \"ASSINATURA DE PUBLICA\\u00c7\\u00d5ES\", \"PARTICIPA\\u00c7\\u00c3O EM CURSO, PALESTRA OU EVENTO SIMILAR\", \"PASSAGENS TERRESTRES, MAR\\u00cdTIMAS OU FLUVIAIS\", \"LOCA\\u00c7\\u00c3O OU FRETAMENTO DE EMBARCA\\u00c7\\u00d5ES\"], \"y\": [158143030.5900005, 149798845.95004004, 79105833.5800001, 71029514.26999854, 64430366.92000003, 54612243.33000542, 34545984.65999737, 11713029.230000865, 9016579.01, 8033283.820000123, 5863227.860000073, 5187377.979999903, 4973256.489999972, 2754395.4800000014, 984716.4400000108, 347154.48000000004, 312342.97000000026, 175171.15999999997], \"type\": \"bar\", \"uid\": \"1ecc3c4a-e18c-434d-acff-cbeac8de270d\"}], {\"title\": \"Gastos por categoria\", \"xaxis\": {\"tickfont\": {\"size\": 8}, \"title\": \"Categoria\"}, \"yaxis\": {\"autorange\": true, \"tickfont\": {\"size\": 12}, \"title\": \"Gastos em R$\"}}, {\"showLink\": true, \"linkText\": \"Export to plot.ly\", \"plotlyServerURL\": \"https://plot.ly\"})});</script><script type=\"text/javascript\">window.addEventListener(\"resize\", function(){window._Plotly.Plots.resize(document.getElementById(\"0002e501-3260-4c41-89d8-70930f7c45a7\"));});</script>"
      ],
      "text/vnd.plotly.v1+html": [
       "<div id=\"0002e501-3260-4c41-89d8-70930f7c45a7\" style=\"height: 525px; width: 100%;\" class=\"plotly-graph-div\"></div><script type=\"text/javascript\">require([\"plotly\"], function(Plotly) { window.PLOTLYENV=window.PLOTLYENV || {};window.PLOTLYENV.BASE_URL=\"https://plot.ly\";Plotly.newPlot(\"0002e501-3260-4c41-89d8-70930f7c45a7\", [{\"marker\": {\"color\": \"grey\"}, \"orientation\": \"v\", \"x\": [\"DIVULGA\\u00c7\\u00c3O DA ATIVIDADE PARLAMENTAR.\", \"Emiss\\u00e3o Bilhete A\\u00e9reo\", \"LOCA\\u00c7\\u00c3O OU FRETAMENTO DE VE\\u00cdCULOS AUTOMOTORES\", \"MANUTEN\\u00c7\\u00c3O DE ESCRIT\\u00d3RIO DE APOIO \\u00c0 ATIVIDADE PARLAMENTAR\", \"CONSULTORIAS, PESQUISAS E TRABALHOS T\\u00c9CNICOS.\", \"COMBUST\\u00cdVEIS E LUBRIFICANTES.\", \"TELEFONIA\", \"SERVI\\u00c7OS POSTAIS\", \"LOCA\\u00c7\\u00c3O OU FRETAMENTO DE AERONAVES\", \"PASSAGENS A\\u00c9REAS\", \"HOSPEDAGEM ,EXCETO DO PARLAMENTAR NO DISTRITO FEDERAL.\", \"FORNECIMENTO DE ALIMENTA\\u00c7\\u00c3O DO PARLAMENTAR\", \"SERVI\\u00c7O DE SEGURAN\\u00c7A PRESTADO POR EMPRESA ESPECIALIZADA.\", \"SERVI\\u00c7O DE T\\u00c1XI, PED\\u00c1GIO E ESTACIONAMENTO\", \"ASSINATURA DE PUBLICA\\u00c7\\u00d5ES\", \"PARTICIPA\\u00c7\\u00c3O EM CURSO, PALESTRA OU EVENTO SIMILAR\", \"PASSAGENS TERRESTRES, MAR\\u00cdTIMAS OU FLUVIAIS\", \"LOCA\\u00c7\\u00c3O OU FRETAMENTO DE EMBARCA\\u00c7\\u00d5ES\"], \"y\": [158143030.5900005, 149798845.95004004, 79105833.5800001, 71029514.26999854, 64430366.92000003, 54612243.33000542, 34545984.65999737, 11713029.230000865, 9016579.01, 8033283.820000123, 5863227.860000073, 5187377.979999903, 4973256.489999972, 2754395.4800000014, 984716.4400000108, 347154.48000000004, 312342.97000000026, 175171.15999999997], \"type\": \"bar\", \"uid\": \"1ecc3c4a-e18c-434d-acff-cbeac8de270d\"}], {\"title\": \"Gastos por categoria\", \"xaxis\": {\"tickfont\": {\"size\": 8}, \"title\": \"Categoria\"}, \"yaxis\": {\"autorange\": true, \"tickfont\": {\"size\": 12}, \"title\": \"Gastos em R$\"}}, {\"showLink\": true, \"linkText\": \"Export to plot.ly\", \"plotlyServerURL\": \"https://plot.ly\"})});</script><script type=\"text/javascript\">window.addEventListener(\"resize\", function(){window._Plotly.Plots.resize(document.getElementById(\"0002e501-3260-4c41-89d8-70930f7c45a7\"));});</script>"
      ]
     },
     "metadata": {},
     "output_type": "display_data"
    }
   ],
   "source": [
    "# Agrupando pela descrição da despesa e somando seus valores\n",
    "cat_mais_caras = df_completo.groupby('desc_despesa')['vlr_despesa'].sum().sort_values(ascending=False)\n",
    "\n",
    "plot_bar(cat_mais_caras, 'Gastos por categoria', 'Categoria', 'Gastos em R$', \"grey\")"
   ]
  },
  {
   "cell_type": "markdown",
   "metadata": {},
   "source": [
    "Como vimos no início da análise, embora a Emissão de Bilhetes aéreos seja a categoria mais frequente, ela não é a com maior volume de gastos. A maior parte dos recursos da cota são consumidos com \"Divulgação da atividade parlamentar\".\n",
    "\n"
   ]
  },
  {
   "cell_type": "markdown",
   "metadata": {},
   "source": [
    "## Qual é o gasto por estado?"
   ]
  },
  {
   "cell_type": "code",
   "execution_count": 30,
   "metadata": {},
   "outputs": [
    {
     "data": {
      "application/vnd.plotly.v1+json": {
       "config": {
        "linkText": "Export to plot.ly",
        "plotlyServerURL": "https://plot.ly",
        "showLink": true
       },
       "data": [
        {
         "marker": {
          "color": "pink"
         },
         "orientation": "v",
         "type": "bar",
         "uid": "341912f0-1be3-45a6-8f27-32293b4e0c3d",
         "x": [
          "SP",
          "MG",
          "RJ",
          "BA",
          "RS",
          "PR",
          "PE",
          "CE",
          "MA",
          "PA",
          "SC",
          "GO",
          "PB",
          "PI",
          "RR",
          "AC",
          "ES",
          "AP",
          "AL",
          "RO",
          "RN",
          "MS",
          "TO",
          "SE",
          "MT",
          "AM",
          "DF",
          "Sem informação"
         ],
         "y": [
          81966683.00000177,
          65784720.52998943,
          52837075.09998875,
          50549016.209991045,
          41669903.72999471,
          37793203.029997274,
          33671537.299998775,
          30463272.119999427,
          25695850.650000878,
          24289473.00000114,
          19710685.039999355,
          18673304.320000034,
          16532412.399999876,
          13682508.540000062,
          12878940.200000254,
          12177623.84000014,
          12163310.82000028,
          12152491.920000078,
          11894541.74999985,
          11626060.750000043,
          11557403.469999984,
          11342329.209999911,
          11217623.960000098,
          10527640.799999975,
          10307024.16000006,
          10267772.490000144,
          7682382.160000022,
          1911563.7200000004
         ]
        }
       ],
       "layout": {
        "title": "Gastos por estado",
        "xaxis": {
         "tickfont": {
          "size": 8
         },
         "title": "Estado"
        },
        "yaxis": {
         "autorange": true,
         "tickfont": {
          "size": 12
         },
         "title": "Gastos"
        }
       }
      },
      "text/html": [
       "<div id=\"98614c78-d5b3-457d-9690-5f9ae752fcfc\" style=\"height: 525px; width: 100%;\" class=\"plotly-graph-div\"></div><script type=\"text/javascript\">require([\"plotly\"], function(Plotly) { window.PLOTLYENV=window.PLOTLYENV || {};window.PLOTLYENV.BASE_URL=\"https://plot.ly\";Plotly.newPlot(\"98614c78-d5b3-457d-9690-5f9ae752fcfc\", [{\"marker\": {\"color\": \"pink\"}, \"orientation\": \"v\", \"x\": [\"SP\", \"MG\", \"RJ\", \"BA\", \"RS\", \"PR\", \"PE\", \"CE\", \"MA\", \"PA\", \"SC\", \"GO\", \"PB\", \"PI\", \"RR\", \"AC\", \"ES\", \"AP\", \"AL\", \"RO\", \"RN\", \"MS\", \"TO\", \"SE\", \"MT\", \"AM\", \"DF\", \"Sem informa\\u00e7\\u00e3o\"], \"y\": [81966683.00000177, 65784720.52998943, 52837075.09998875, 50549016.209991045, 41669903.72999471, 37793203.029997274, 33671537.299998775, 30463272.119999427, 25695850.650000878, 24289473.00000114, 19710685.039999355, 18673304.320000034, 16532412.399999876, 13682508.540000062, 12878940.200000254, 12177623.84000014, 12163310.82000028, 12152491.920000078, 11894541.74999985, 11626060.750000043, 11557403.469999984, 11342329.209999911, 11217623.960000098, 10527640.799999975, 10307024.16000006, 10267772.490000144, 7682382.160000022, 1911563.7200000004], \"type\": \"bar\", \"uid\": \"341912f0-1be3-45a6-8f27-32293b4e0c3d\"}], {\"title\": \"Gastos por estado\", \"xaxis\": {\"tickfont\": {\"size\": 8}, \"title\": \"Estado\"}, \"yaxis\": {\"autorange\": true, \"tickfont\": {\"size\": 12}, \"title\": \"Gastos\"}}, {\"showLink\": true, \"linkText\": \"Export to plot.ly\", \"plotlyServerURL\": \"https://plot.ly\"})});</script><script type=\"text/javascript\">window.addEventListener(\"resize\", function(){window._Plotly.Plots.resize(document.getElementById(\"98614c78-d5b3-457d-9690-5f9ae752fcfc\"));});</script>"
      ],
      "text/vnd.plotly.v1+html": [
       "<div id=\"98614c78-d5b3-457d-9690-5f9ae752fcfc\" style=\"height: 525px; width: 100%;\" class=\"plotly-graph-div\"></div><script type=\"text/javascript\">require([\"plotly\"], function(Plotly) { window.PLOTLYENV=window.PLOTLYENV || {};window.PLOTLYENV.BASE_URL=\"https://plot.ly\";Plotly.newPlot(\"98614c78-d5b3-457d-9690-5f9ae752fcfc\", [{\"marker\": {\"color\": \"pink\"}, \"orientation\": \"v\", \"x\": [\"SP\", \"MG\", \"RJ\", \"BA\", \"RS\", \"PR\", \"PE\", \"CE\", \"MA\", \"PA\", \"SC\", \"GO\", \"PB\", \"PI\", \"RR\", \"AC\", \"ES\", \"AP\", \"AL\", \"RO\", \"RN\", \"MS\", \"TO\", \"SE\", \"MT\", \"AM\", \"DF\", \"Sem informa\\u00e7\\u00e3o\"], \"y\": [81966683.00000177, 65784720.52998943, 52837075.09998875, 50549016.209991045, 41669903.72999471, 37793203.029997274, 33671537.299998775, 30463272.119999427, 25695850.650000878, 24289473.00000114, 19710685.039999355, 18673304.320000034, 16532412.399999876, 13682508.540000062, 12878940.200000254, 12177623.84000014, 12163310.82000028, 12152491.920000078, 11894541.74999985, 11626060.750000043, 11557403.469999984, 11342329.209999911, 11217623.960000098, 10527640.799999975, 10307024.16000006, 10267772.490000144, 7682382.160000022, 1911563.7200000004], \"type\": \"bar\", \"uid\": \"341912f0-1be3-45a6-8f27-32293b4e0c3d\"}], {\"title\": \"Gastos por estado\", \"xaxis\": {\"tickfont\": {\"size\": 8}, \"title\": \"Estado\"}, \"yaxis\": {\"autorange\": true, \"tickfont\": {\"size\": 12}, \"title\": \"Gastos\"}}, {\"showLink\": true, \"linkText\": \"Export to plot.ly\", \"plotlyServerURL\": \"https://plot.ly\"})});</script><script type=\"text/javascript\">window.addEventListener(\"resize\", function(){window._Plotly.Plots.resize(document.getElementById(\"98614c78-d5b3-457d-9690-5f9ae752fcfc\"));});</script>"
      ]
     },
     "metadata": {},
     "output_type": "display_data"
    }
   ],
   "source": [
    "# Agrupando por estado\n",
    "gasto_por_estado = df_completo.groupby('uf')['vlr_despesa'].sum().sort_values(ascending=False)\n",
    "\n",
    "plot_bar(gasto_por_estado, 'Gastos por estado', 'Estado', 'Gastos', 'pink')"
   ]
  },
  {
   "cell_type": "markdown",
   "metadata": {},
   "source": [
    "* São Paulo: 206M\n",
    "* Minas Gerais: 164M\n",
    "* Bahia: 129M\n",
    "* Rio de Janeiro: 128M\n",
    "* Rio Grande do Sul: 105M"
   ]
  },
  {
   "cell_type": "markdown",
   "metadata": {},
   "source": [
    "## Qual estado tem maior número de representantes ?"
   ]
  },
  {
   "cell_type": "code",
   "execution_count": 31,
   "metadata": {},
   "outputs": [],
   "source": [
    "data = [] # Criando uma lista vazia para armazenar a quantidade de parlamentares diferentes\n",
    "index = []  # Essa lista receberá a sigla do estado\n",
    "for i in pd.unique(df_completo.uf): # Extrai os valores únicos da lista de estados\n",
    "    index.append(i) # coloca cada uf na lista index\n",
    "    data.append(len(pd.unique(df_completo[df_completo.uf == i ]['nome_parlamentar']))) #conta a quantidade de nomes diferentes por estado"
   ]
  },
  {
   "cell_type": "code",
   "execution_count": 32,
   "metadata": {},
   "outputs": [
    {
     "data": {
      "application/vnd.plotly.v1+json": {
       "config": {
        "linkText": "Export to plot.ly",
        "plotlyServerURL": "https://plot.ly",
        "showLink": true
       },
       "data": [
        {
         "marker": {
          "color": "red"
         },
         "orientation": "v",
         "type": "bar",
         "uid": "f1dd66f1-7269-40f6-9ff0-9146defe8ca5",
         "x": [
          "SP",
          "RJ",
          "MG",
          "BA",
          "PR",
          "RS",
          "PE",
          "MA",
          "CE",
          "PA",
          "GO",
          "SC",
          "AL",
          "PI",
          "PB",
          "AM",
          "ES",
          "MT",
          "AC",
          "RR",
          "MS",
          "DF",
          "AP",
          "RN",
          "SE",
          "RO",
          "TO",
          "Sem informação"
         ],
         "y": [
          114,
          77,
          77,
          60,
          48,
          47,
          44,
          36,
          34,
          25,
          25,
          23,
          19,
          18,
          17,
          16,
          16,
          15,
          15,
          14,
          14,
          14,
          14,
          14,
          13,
          13,
          12,
          11
         ]
        }
       ],
       "layout": {
        "title": "UF's com mais representantes",
        "xaxis": {
         "tickfont": {
          "size": 8
         },
         "title": "Qtd de parlamentateres"
        },
        "yaxis": {
         "autorange": true,
         "tickfont": {
          "size": 12
         },
         "title": "Estados"
        }
       }
      },
      "text/html": [
       "<div id=\"a1de4d74-1845-4d55-b6a4-f85d3b476d2f\" style=\"height: 525px; width: 100%;\" class=\"plotly-graph-div\"></div><script type=\"text/javascript\">require([\"plotly\"], function(Plotly) { window.PLOTLYENV=window.PLOTLYENV || {};window.PLOTLYENV.BASE_URL=\"https://plot.ly\";Plotly.newPlot(\"a1de4d74-1845-4d55-b6a4-f85d3b476d2f\", [{\"marker\": {\"color\": \"red\"}, \"orientation\": \"v\", \"x\": [\"SP\", \"RJ\", \"MG\", \"BA\", \"PR\", \"RS\", \"PE\", \"MA\", \"CE\", \"PA\", \"GO\", \"SC\", \"AL\", \"PI\", \"PB\", \"AM\", \"ES\", \"MT\", \"AC\", \"RR\", \"MS\", \"DF\", \"AP\", \"RN\", \"SE\", \"RO\", \"TO\", \"Sem informa\\u00e7\\u00e3o\"], \"y\": [114, 77, 77, 60, 48, 47, 44, 36, 34, 25, 25, 23, 19, 18, 17, 16, 16, 15, 15, 14, 14, 14, 14, 14, 13, 13, 12, 11], \"type\": \"bar\", \"uid\": \"f1dd66f1-7269-40f6-9ff0-9146defe8ca5\"}], {\"title\": \"UF's com mais representantes\", \"xaxis\": {\"tickfont\": {\"size\": 8}, \"title\": \"Qtd de parlamentateres\"}, \"yaxis\": {\"autorange\": true, \"tickfont\": {\"size\": 12}, \"title\": \"Estados\"}}, {\"showLink\": true, \"linkText\": \"Export to plot.ly\", \"plotlyServerURL\": \"https://plot.ly\"})});</script><script type=\"text/javascript\">window.addEventListener(\"resize\", function(){window._Plotly.Plots.resize(document.getElementById(\"a1de4d74-1845-4d55-b6a4-f85d3b476d2f\"));});</script>"
      ],
      "text/vnd.plotly.v1+html": [
       "<div id=\"a1de4d74-1845-4d55-b6a4-f85d3b476d2f\" style=\"height: 525px; width: 100%;\" class=\"plotly-graph-div\"></div><script type=\"text/javascript\">require([\"plotly\"], function(Plotly) { window.PLOTLYENV=window.PLOTLYENV || {};window.PLOTLYENV.BASE_URL=\"https://plot.ly\";Plotly.newPlot(\"a1de4d74-1845-4d55-b6a4-f85d3b476d2f\", [{\"marker\": {\"color\": \"red\"}, \"orientation\": \"v\", \"x\": [\"SP\", \"RJ\", \"MG\", \"BA\", \"PR\", \"RS\", \"PE\", \"MA\", \"CE\", \"PA\", \"GO\", \"SC\", \"AL\", \"PI\", \"PB\", \"AM\", \"ES\", \"MT\", \"AC\", \"RR\", \"MS\", \"DF\", \"AP\", \"RN\", \"SE\", \"RO\", \"TO\", \"Sem informa\\u00e7\\u00e3o\"], \"y\": [114, 77, 77, 60, 48, 47, 44, 36, 34, 25, 25, 23, 19, 18, 17, 16, 16, 15, 15, 14, 14, 14, 14, 14, 13, 13, 12, 11], \"type\": \"bar\", \"uid\": \"f1dd66f1-7269-40f6-9ff0-9146defe8ca5\"}], {\"title\": \"UF's com mais representantes\", \"xaxis\": {\"tickfont\": {\"size\": 8}, \"title\": \"Qtd de parlamentateres\"}, \"yaxis\": {\"autorange\": true, \"tickfont\": {\"size\": 12}, \"title\": \"Estados\"}}, {\"showLink\": true, \"linkText\": \"Export to plot.ly\", \"plotlyServerURL\": \"https://plot.ly\"})});</script><script type=\"text/javascript\">window.addEventListener(\"resize\", function(){window._Plotly.Plots.resize(document.getElementById(\"a1de4d74-1845-4d55-b6a4-f85d3b476d2f\"));});</script>"
      ]
     },
     "metadata": {},
     "output_type": "display_data"
    }
   ],
   "source": [
    "uf_maior_representatividade = pd.Series(data=data, index=index).sort_values(ascending = False)\n",
    "plot_bar(uf_maior_representatividade, \"UF's com mais representantes\", \"Qtd de parlamentateres\", \"Estados\", 'red')"
   ]
  },
  {
   "cell_type": "markdown",
   "metadata": {},
   "source": [
    "Os números acima, são um pouco estranhos. A quantidade total de parlamentares presentes no conjunto de dados é de 845, muito superior aos 513 definidos pela constituição. \n",
    "\n",
    "Por que isso acontece ? \n",
    "\n",
    "Em minhas pesquisas, localizei os seguintes pontos que podem explicar essa diferença:\n",
    "\n",
    "1. Dentro do conjunto de dados, podem estar listados como deputados seus suplentes. Todos os deputados possuem suplentes que podem assumir sua função em caso de licença, morte, cassação ou caso o deputado assuma outro cargo político. Esses suplentes passam a gozar dos mesmos direitos do parlamentar originalmente eleito, inclusive a cota.\n",
    "\n",
    "\n",
    "2. No dataset, além de termos os deputados, também estão listados as lideranças dos partidos, que inclusive são os que mais gastam com reembolsos relativos à alimentação.\n",
    "\n",
    "Consultando o Portal da Câmara dos Deputados, na seção controle do cidadão(clique [aqui](http://www.camara.gov.br/cota-parlamentar#secaoDeputados) para acessar) onde qualquer um pode fiscalizar os gastos por deputado, são listados 999 parlamentares diferentes e 28 lideranças de partido. \n",
    "\n",
    "Me parece um detalhe que não impacta nos resultados da análise. Pois de acordo com a Constituição Federal, art45 o número de deputados por estado é proporcional à sua população e como vimos no gráfico acima, os estados mais populosos lideram a lista de maior representatividade.\n",
    "\n",
    "**Ah ! e você sabia que além de todas as mordomias, os suplentes tem direito a uma ajuda de custos de mais de 30 mil reais ao assumirem o cargo ?** \n",
    "\n",
    "Além disso, segundo [essa](https://g1.globo.com/politica/noticia/quase-20-dos-parlamentares-em-exercicio-no-senado-sao-substitutos.ghtml) reportagem, quase 20% dos parlamentares em exercício na câmara, são substitutos. Ou seja, uma boa parte dos políticos que estão lá nunca foram eleitos pelo voto do povo. \n",
    "\n",
    "Nos gráficos acima, não há muita surpresa, os estados com mais representantes geram maior custo. "
   ]
  },
  {
   "cell_type": "markdown",
   "metadata": {},
   "source": [
    "## Quais partidos mais consomem a cota parlamentar e quais tem o maior número de representantes ?\n",
    "\n",
    "Vejamos se os partidos mais representativos, são os que mais consomem:"
   ]
  },
  {
   "cell_type": "code",
   "execution_count": 33,
   "metadata": {},
   "outputs": [
    {
     "data": {
      "application/vnd.plotly.v1+json": {
       "config": {
        "linkText": "Export to plot.ly",
        "plotlyServerURL": "https://plot.ly",
        "showLink": true
       },
       "data": [
        {
         "marker": {
          "color": "purple"
         },
         "orientation": "v",
         "type": "bar",
         "uid": "f6d86baf-16e4-48a0-8760-ff9fdd3642cc",
         "x": [
          "PT",
          "PSDB",
          "PP",
          "MDB",
          "PSD",
          "DEM",
          "PR",
          "PSB",
          "PMDB",
          "PDT",
          "PRB",
          "PCdoB",
          "PROS",
          "SD",
          "PODE",
          "PTB",
          "PPS",
          "PSC",
          "Sem informação",
          "PV",
          "PSL",
          "PSOL",
          "AVANTE",
          "PATRI",
          "PHS",
          "PMN",
          "PRP",
          "REDE",
          "PPL",
          "PTdoB",
          "S.PART.",
          "PRTB"
         ],
         "y": [
          112,
          77,
          72,
          69,
          62,
          60,
          56,
          44,
          37,
          34,
          27,
          22,
          21,
          21,
          20,
          20,
          14,
          14,
          11,
          10,
          10,
          6,
          6,
          5,
          4,
          3,
          2,
          2,
          1,
          1,
          1,
          1
         ]
        }
       ],
       "layout": {
        "title": "Maiores partidos",
        "xaxis": {
         "tickfont": {
          "size": 8
         },
         "title": "Qtd de parlamentateres"
        },
        "yaxis": {
         "autorange": true,
         "tickfont": {
          "size": 12
         },
         "title": "Partido"
        }
       }
      },
      "text/html": [
       "<div id=\"5ba1e67f-297c-486b-bb60-88b8b6641d13\" style=\"height: 525px; width: 100%;\" class=\"plotly-graph-div\"></div><script type=\"text/javascript\">require([\"plotly\"], function(Plotly) { window.PLOTLYENV=window.PLOTLYENV || {};window.PLOTLYENV.BASE_URL=\"https://plot.ly\";Plotly.newPlot(\"5ba1e67f-297c-486b-bb60-88b8b6641d13\", [{\"marker\": {\"color\": \"purple\"}, \"orientation\": \"v\", \"x\": [\"PT\", \"PSDB\", \"PP\", \"MDB\", \"PSD\", \"DEM\", \"PR\", \"PSB\", \"PMDB\", \"PDT\", \"PRB\", \"PCdoB\", \"PROS\", \"SD\", \"PODE\", \"PTB\", \"PPS\", \"PSC\", \"Sem informa\\u00e7\\u00e3o\", \"PV\", \"PSL\", \"PSOL\", \"AVANTE\", \"PATRI\", \"PHS\", \"PMN\", \"PRP\", \"REDE\", \"PPL\", \"PTdoB\", \"S.PART.\", \"PRTB\"], \"y\": [112, 77, 72, 69, 62, 60, 56, 44, 37, 34, 27, 22, 21, 21, 20, 20, 14, 14, 11, 10, 10, 6, 6, 5, 4, 3, 2, 2, 1, 1, 1, 1], \"type\": \"bar\", \"uid\": \"f6d86baf-16e4-48a0-8760-ff9fdd3642cc\"}], {\"title\": \"Maiores partidos\", \"xaxis\": {\"tickfont\": {\"size\": 8}, \"title\": \"Qtd de parlamentateres\"}, \"yaxis\": {\"autorange\": true, \"tickfont\": {\"size\": 12}, \"title\": \"Partido\"}}, {\"showLink\": true, \"linkText\": \"Export to plot.ly\", \"plotlyServerURL\": \"https://plot.ly\"})});</script><script type=\"text/javascript\">window.addEventListener(\"resize\", function(){window._Plotly.Plots.resize(document.getElementById(\"5ba1e67f-297c-486b-bb60-88b8b6641d13\"));});</script>"
      ],
      "text/vnd.plotly.v1+html": [
       "<div id=\"5ba1e67f-297c-486b-bb60-88b8b6641d13\" style=\"height: 525px; width: 100%;\" class=\"plotly-graph-div\"></div><script type=\"text/javascript\">require([\"plotly\"], function(Plotly) { window.PLOTLYENV=window.PLOTLYENV || {};window.PLOTLYENV.BASE_URL=\"https://plot.ly\";Plotly.newPlot(\"5ba1e67f-297c-486b-bb60-88b8b6641d13\", [{\"marker\": {\"color\": \"purple\"}, \"orientation\": \"v\", \"x\": [\"PT\", \"PSDB\", \"PP\", \"MDB\", \"PSD\", \"DEM\", \"PR\", \"PSB\", \"PMDB\", \"PDT\", \"PRB\", \"PCdoB\", \"PROS\", \"SD\", \"PODE\", \"PTB\", \"PPS\", \"PSC\", \"Sem informa\\u00e7\\u00e3o\", \"PV\", \"PSL\", \"PSOL\", \"AVANTE\", \"PATRI\", \"PHS\", \"PMN\", \"PRP\", \"REDE\", \"PPL\", \"PTdoB\", \"S.PART.\", \"PRTB\"], \"y\": [112, 77, 72, 69, 62, 60, 56, 44, 37, 34, 27, 22, 21, 21, 20, 20, 14, 14, 11, 10, 10, 6, 6, 5, 4, 3, 2, 2, 1, 1, 1, 1], \"type\": \"bar\", \"uid\": \"f6d86baf-16e4-48a0-8760-ff9fdd3642cc\"}], {\"title\": \"Maiores partidos\", \"xaxis\": {\"tickfont\": {\"size\": 8}, \"title\": \"Qtd de parlamentateres\"}, \"yaxis\": {\"autorange\": true, \"tickfont\": {\"size\": 12}, \"title\": \"Partido\"}}, {\"showLink\": true, \"linkText\": \"Export to plot.ly\", \"plotlyServerURL\": \"https://plot.ly\"})});</script><script type=\"text/javascript\">window.addEventListener(\"resize\", function(){window._Plotly.Plots.resize(document.getElementById(\"5ba1e67f-297c-486b-bb60-88b8b6641d13\"));});</script>"
      ]
     },
     "metadata": {},
     "output_type": "display_data"
    }
   ],
   "source": [
    "qtd_politicos = [] # Criando uma lista vazia para armazenar a quantidade de parlamentares diferentes\n",
    "partido = []  # Essa lista receberá a sigla do partido\n",
    "for i in pd.unique(df_completo.partido): # Extrai os valores únicos da lista de partidos\n",
    "    partido.append(i) # coloca cada partido na lista partido\n",
    "    qtd_politicos.append(len(pd.unique(df_completo[df_completo.partido == i ]['nome_parlamentar']))) #conta a quantidade de nomes diferentes por estado\n",
    "\n",
    "    \n",
    "maiores_partidos = pd.Series(data=qtd_politicos, index=partido).sort_values(ascending = False)\n",
    "plot_bar(maiores_partidos, \"Maiores partidos\", \"Qtd de parlamentateres\", \"Partido\", 'purple')    "
   ]
  },
  {
   "cell_type": "code",
   "execution_count": 34,
   "metadata": {},
   "outputs": [
    {
     "data": {
      "application/vnd.plotly.v1+json": {
       "config": {
        "linkText": "Export to plot.ly",
        "plotlyServerURL": "https://plot.ly",
        "showLink": true
       },
       "data": [
        {
         "marker": {
          "color": "yellow"
         },
         "orientation": "v",
         "type": "bar",
         "uid": "bbbb67ca-7750-4439-b079-d69bb25ac5b8",
         "x": [
          "PT",
          "MDB",
          "PP",
          "PSDB",
          "DEM",
          "PR",
          "PSD",
          "PSB",
          "PRB",
          "PDT",
          "PTB",
          "PODE",
          "PCdoB",
          "SD",
          "PROS",
          "PPS",
          "PSL",
          "PSC",
          "AVANTE",
          "PSOL",
          "PATRI",
          "PHS",
          "PV",
          "REDE",
          "Sem informação",
          "PPL",
          "PMDB",
          "PRTB",
          "PMN",
          "PRP",
          "PTdoB",
          "S.PART."
         ],
         "y": [
          75218292.80999415,
          70731041.98999077,
          70623625.54999137,
          60047214.95998964,
          50752254.389992505,
          49611486.529994406,
          45169800.91999614,
          33632408.789999455,
          27083592.769999806,
          26845210.6700002,
          22986711.28000022,
          22581938.110000025,
          17204707.130000222,
          12903572.720000127,
          12539672.639999937,
          10619536.880000098,
          8421787.150000095,
          8233960.020000108,
          7699926.310000061,
          6338419.290000086,
          6108069.160000008,
          5057663.73000001,
          4313545.259999993,
          1969937.4899999893,
          1911563.7200000004,
          1352404.4199999957,
          723345.6500000004,
          167413.30000000002,
          85475.13999999998,
          75064.81,
          16696.45,
          14.18
         ]
        }
       ],
       "layout": {
        "title": "Gastos por Partido",
        "xaxis": {
         "tickfont": {
          "size": 8
         },
         "title": "Partido"
        },
        "yaxis": {
         "autorange": true,
         "tickfont": {
          "size": 12
         },
         "title": "Gastos"
        }
       }
      },
      "text/html": [
       "<div id=\"874f68e4-d669-4bc9-b662-8c08ba52b11a\" style=\"height: 525px; width: 100%;\" class=\"plotly-graph-div\"></div><script type=\"text/javascript\">require([\"plotly\"], function(Plotly) { window.PLOTLYENV=window.PLOTLYENV || {};window.PLOTLYENV.BASE_URL=\"https://plot.ly\";Plotly.newPlot(\"874f68e4-d669-4bc9-b662-8c08ba52b11a\", [{\"marker\": {\"color\": \"yellow\"}, \"orientation\": \"v\", \"x\": [\"PT\", \"MDB\", \"PP\", \"PSDB\", \"DEM\", \"PR\", \"PSD\", \"PSB\", \"PRB\", \"PDT\", \"PTB\", \"PODE\", \"PCdoB\", \"SD\", \"PROS\", \"PPS\", \"PSL\", \"PSC\", \"AVANTE\", \"PSOL\", \"PATRI\", \"PHS\", \"PV\", \"REDE\", \"Sem informa\\u00e7\\u00e3o\", \"PPL\", \"PMDB\", \"PRTB\", \"PMN\", \"PRP\", \"PTdoB\", \"S.PART.\"], \"y\": [75218292.80999415, 70731041.98999077, 70623625.54999137, 60047214.95998964, 50752254.389992505, 49611486.529994406, 45169800.91999614, 33632408.789999455, 27083592.769999806, 26845210.6700002, 22986711.28000022, 22581938.110000025, 17204707.130000222, 12903572.720000127, 12539672.639999937, 10619536.880000098, 8421787.150000095, 8233960.020000108, 7699926.310000061, 6338419.290000086, 6108069.160000008, 5057663.73000001, 4313545.259999993, 1969937.4899999893, 1911563.7200000004, 1352404.4199999957, 723345.6500000004, 167413.30000000002, 85475.13999999998, 75064.81, 16696.45, 14.18], \"type\": \"bar\", \"uid\": \"bbbb67ca-7750-4439-b079-d69bb25ac5b8\"}], {\"title\": \"Gastos por Partido\", \"xaxis\": {\"tickfont\": {\"size\": 8}, \"title\": \"Partido\"}, \"yaxis\": {\"autorange\": true, \"tickfont\": {\"size\": 12}, \"title\": \"Gastos\"}}, {\"showLink\": true, \"linkText\": \"Export to plot.ly\", \"plotlyServerURL\": \"https://plot.ly\"})});</script><script type=\"text/javascript\">window.addEventListener(\"resize\", function(){window._Plotly.Plots.resize(document.getElementById(\"874f68e4-d669-4bc9-b662-8c08ba52b11a\"));});</script>"
      ],
      "text/vnd.plotly.v1+html": [
       "<div id=\"874f68e4-d669-4bc9-b662-8c08ba52b11a\" style=\"height: 525px; width: 100%;\" class=\"plotly-graph-div\"></div><script type=\"text/javascript\">require([\"plotly\"], function(Plotly) { window.PLOTLYENV=window.PLOTLYENV || {};window.PLOTLYENV.BASE_URL=\"https://plot.ly\";Plotly.newPlot(\"874f68e4-d669-4bc9-b662-8c08ba52b11a\", [{\"marker\": {\"color\": \"yellow\"}, \"orientation\": \"v\", \"x\": [\"PT\", \"MDB\", \"PP\", \"PSDB\", \"DEM\", \"PR\", \"PSD\", \"PSB\", \"PRB\", \"PDT\", \"PTB\", \"PODE\", \"PCdoB\", \"SD\", \"PROS\", \"PPS\", \"PSL\", \"PSC\", \"AVANTE\", \"PSOL\", \"PATRI\", \"PHS\", \"PV\", \"REDE\", \"Sem informa\\u00e7\\u00e3o\", \"PPL\", \"PMDB\", \"PRTB\", \"PMN\", \"PRP\", \"PTdoB\", \"S.PART.\"], \"y\": [75218292.80999415, 70731041.98999077, 70623625.54999137, 60047214.95998964, 50752254.389992505, 49611486.529994406, 45169800.91999614, 33632408.789999455, 27083592.769999806, 26845210.6700002, 22986711.28000022, 22581938.110000025, 17204707.130000222, 12903572.720000127, 12539672.639999937, 10619536.880000098, 8421787.150000095, 8233960.020000108, 7699926.310000061, 6338419.290000086, 6108069.160000008, 5057663.73000001, 4313545.259999993, 1969937.4899999893, 1911563.7200000004, 1352404.4199999957, 723345.6500000004, 167413.30000000002, 85475.13999999998, 75064.81, 16696.45, 14.18], \"type\": \"bar\", \"uid\": \"bbbb67ca-7750-4439-b079-d69bb25ac5b8\"}], {\"title\": \"Gastos por Partido\", \"xaxis\": {\"tickfont\": {\"size\": 8}, \"title\": \"Partido\"}, \"yaxis\": {\"autorange\": true, \"tickfont\": {\"size\": 12}, \"title\": \"Gastos\"}}, {\"showLink\": true, \"linkText\": \"Export to plot.ly\", \"plotlyServerURL\": \"https://plot.ly\"})});</script><script type=\"text/javascript\">window.addEventListener(\"resize\", function(){window._Plotly.Plots.resize(document.getElementById(\"874f68e4-d669-4bc9-b662-8c08ba52b11a\"));});</script>"
      ]
     },
     "metadata": {},
     "output_type": "display_data"
    }
   ],
   "source": [
    "piores_partidos = df_completo.groupby('partido')['vlr_despesa'].sum().sort_values(ascending=False)\n",
    "\n",
    "plot_bar(piores_partidos, 'Gastos por Partido', 'Partido', 'Gastos', 'yellow')"
   ]
  },
  {
   "cell_type": "markdown",
   "metadata": {},
   "source": [
    "* PT: 230MM;\n",
    "* PP: 158MM;\n",
    "* PSDB: 150MM;\n",
    "* MDB: 136MM;\n",
    "* DEM: 121MM.\n",
    "\n",
    "Basicamente, o padrão é similar ao que vimos na análise por estado. Maiores partidos, tem mais gastos."
   ]
  },
  {
   "cell_type": "markdown",
   "metadata": {},
   "source": [
    "## Quais parlamentares tem a maior média de gastos?"
   ]
  },
  {
   "cell_type": "markdown",
   "metadata": {},
   "source": [
    "Neste ponto precisamos determinar uma quantidade mínima de vezes que o parlamentar aparece no dataset ou seja, a quantidade de vezes que ele solicitou reembolso. Arbitrariamente, irei considerar como valor mínimo cem vezes."
   ]
  },
  {
   "cell_type": "code",
   "execution_count": 35,
   "metadata": {},
   "outputs": [],
   "source": [
    "count_parlamentares = df_completo['nome_parlamentar'].value_counts()"
   ]
  },
  {
   "cell_type": "code",
   "execution_count": 36,
   "metadata": {},
   "outputs": [],
   "source": [
    "# Criando uma função que retorne uma lista de parlamentares que usaram a cota, pelo menos mais de 100 vezes\n",
    "\n",
    "def mais_de_cem(count_parlamentares):\n",
    "    cem_mais = [] \n",
    "    for i in range(len(count_parlamentares)):        \n",
    "        if count_parlamentares.values[i]>=100: # Pega o nome do parlamentar que aparece no mínimo 100 vezes\n",
    "            cem_mais.append(count_parlamentares.index[i]) # Adiciona na lista cem_mais\n",
    "    return cem_mais"
   ]
  },
  {
   "cell_type": "code",
   "execution_count": 37,
   "metadata": {},
   "outputs": [],
   "source": [
    "# Aplicando a função e salvando o resultado em uma nova variável\n",
    "politicos = df_completo[df_completo['nome_parlamentar'].isin(mais_de_cem(count_parlamentares)) == True]"
   ]
  },
  {
   "cell_type": "code",
   "execution_count": 38,
   "metadata": {},
   "outputs": [
    {
     "data": {
      "application/vnd.plotly.v1+json": {
       "config": {
        "linkText": "Export to plot.ly",
        "plotlyServerURL": "https://plot.ly",
        "showLink": true
       },
       "data": [
        {
         "marker": {
          "color": "purple"
         },
         "orientation": "v",
         "type": "bar",
         "uid": "43d1f89b-10ee-43e2-8f57-bdaa1673b7b5",
         "x": [
          "LUCAS VERGILIO",
          "ALTINEU CÔRTES",
          "ÁTILA LINS",
          "HEULER CRUVINEL",
          "AUGUSTO CARVALHO"
         ],
         "y": [
          3043.8702184466,
          2633.039921465967,
          2421.0845993589714,
          2254.459724409447,
          2201.230418410042
         ]
        }
       ],
       "layout": {
        "title": "Parlamentares com maior média de gastos e que tenham usado a cota no mínimo 100x",
        "xaxis": {
         "tickfont": {
          "size": 8
         },
         "title": "Parlamentar"
        },
        "yaxis": {
         "autorange": true,
         "tickfont": {
          "size": 12
         },
         "title": "Gasto médio em R$"
        }
       }
      },
      "text/html": [
       "<div id=\"95e783e4-d7bb-4b8b-9b96-f1a6eee82d4d\" style=\"height: 525px; width: 100%;\" class=\"plotly-graph-div\"></div><script type=\"text/javascript\">require([\"plotly\"], function(Plotly) { window.PLOTLYENV=window.PLOTLYENV || {};window.PLOTLYENV.BASE_URL=\"https://plot.ly\";Plotly.newPlot(\"95e783e4-d7bb-4b8b-9b96-f1a6eee82d4d\", [{\"marker\": {\"color\": \"purple\"}, \"orientation\": \"v\", \"x\": [\"LUCAS VERGILIO\", \"ALTINEU C\\u00d4RTES\", \"\\u00c1TILA LINS\", \"HEULER CRUVINEL\", \"AUGUSTO CARVALHO\"], \"y\": [3043.8702184466, 2633.039921465967, 2421.0845993589714, 2254.459724409447, 2201.230418410042], \"type\": \"bar\", \"uid\": \"43d1f89b-10ee-43e2-8f57-bdaa1673b7b5\"}], {\"title\": \"Parlamentares com maior m\\u00e9dia de gastos e que tenham usado a cota no m\\u00ednimo 100x\", \"xaxis\": {\"tickfont\": {\"size\": 8}, \"title\": \"Parlamentar\"}, \"yaxis\": {\"autorange\": true, \"tickfont\": {\"size\": 12}, \"title\": \"Gasto m\\u00e9dio em R$\"}}, {\"showLink\": true, \"linkText\": \"Export to plot.ly\", \"plotlyServerURL\": \"https://plot.ly\"})});</script><script type=\"text/javascript\">window.addEventListener(\"resize\", function(){window._Plotly.Plots.resize(document.getElementById(\"95e783e4-d7bb-4b8b-9b96-f1a6eee82d4d\"));});</script>"
      ],
      "text/vnd.plotly.v1+html": [
       "<div id=\"95e783e4-d7bb-4b8b-9b96-f1a6eee82d4d\" style=\"height: 525px; width: 100%;\" class=\"plotly-graph-div\"></div><script type=\"text/javascript\">require([\"plotly\"], function(Plotly) { window.PLOTLYENV=window.PLOTLYENV || {};window.PLOTLYENV.BASE_URL=\"https://plot.ly\";Plotly.newPlot(\"95e783e4-d7bb-4b8b-9b96-f1a6eee82d4d\", [{\"marker\": {\"color\": \"purple\"}, \"orientation\": \"v\", \"x\": [\"LUCAS VERGILIO\", \"ALTINEU C\\u00d4RTES\", \"\\u00c1TILA LINS\", \"HEULER CRUVINEL\", \"AUGUSTO CARVALHO\"], \"y\": [3043.8702184466, 2633.039921465967, 2421.0845993589714, 2254.459724409447, 2201.230418410042], \"type\": \"bar\", \"uid\": \"43d1f89b-10ee-43e2-8f57-bdaa1673b7b5\"}], {\"title\": \"Parlamentares com maior m\\u00e9dia de gastos e que tenham usado a cota no m\\u00ednimo 100x\", \"xaxis\": {\"tickfont\": {\"size\": 8}, \"title\": \"Parlamentar\"}, \"yaxis\": {\"autorange\": true, \"tickfont\": {\"size\": 12}, \"title\": \"Gasto m\\u00e9dio em R$\"}}, {\"showLink\": true, \"linkText\": \"Export to plot.ly\", \"plotlyServerURL\": \"https://plot.ly\"})});</script><script type=\"text/javascript\">window.addEventListener(\"resize\", function(){window._Plotly.Plots.resize(document.getElementById(\"95e783e4-d7bb-4b8b-9b96-f1a6eee82d4d\"));});</script>"
      ]
     },
     "metadata": {},
     "output_type": "display_data"
    }
   ],
   "source": [
    "media_parlamentares = politicos.groupby('nome_parlamentar')['vlr_despesa'].mean().sort_values(ascending=False).head(5)\n",
    "plot_bar(media_parlamentares, 'Parlamentares com maior média de gastos e que tenham usado a cota no mínimo 100x', 'Parlamentar',\n",
    "         'Gasto médio em R$', 'purple')"
   ]
  },
  {
   "cell_type": "markdown",
   "metadata": {},
   "source": [
    "* Armando Vergílio: 3600\n",
    "* Lucas Vergílio: 3043\n",
    "* Altineu Cortês: 2633\n",
    "* Marcos Antônio: 2492\n",
    "* Fernando Torres: 2296\n",
    "\n",
    "Os parlamentares que mais gastam não são necessariamente os que tem maior média de gastos.\n",
    "\n"
   ]
  },
  {
   "cell_type": "markdown",
   "metadata": {},
   "source": [
    "## Combustíveis e lubrificantes"
   ]
  },
  {
   "cell_type": "markdown",
   "metadata": {},
   "source": [
    "Um dos gastos que mais pesam no bolso do trabalhador brasileiro, são os gastos com combustíveis. Como veremos a seguir, o valor do combustível no Brasil só cresceu desde 2013 (período no qual a ANP começou a registrar o valor médio por litro mensalmente).\n",
    "\n",
    "Aqui além de avaliar o volume anual de gastos, também iremos buscar entender se o valor do combustível influencia no total desses gastos. Para isso, precisei obter o conjunto de dados da ANP, que pode ser extraído [daqui](http://www.anp.gov.br/precos-e-defesa/234-precos/levantamento-de-precos). \n",
    "\n",
    "\n",
    "Este conjunto de dados representa a média mensal dos valores de Gasolina, Etanol, Diesel e Gás de Cozinha. Nessa análise, consideraremos apenas Etanol e Gasolina, por serem combustíveis mais comumente utilizados. Além disso, como o dataset da câmara não especifica o combustível utilizado pelo deputado, portanto optei por unificar o preço do etanol e da gasolina, criando uma métrica única mas que acredito ser capaz de captar as variações de preço. "
   ]
  },
  {
   "cell_type": "code",
   "execution_count": 41,
   "metadata": {
    "scrolled": false
   },
   "outputs": [
    {
     "data": {
      "application/vnd.plotly.v1+json": {
       "config": {
        "linkText": "Export to plot.ly",
        "plotlyServerURL": "https://plot.ly",
        "showLink": true
       },
       "data": [
        {
         "marker": {
          "color": "orange"
         },
         "orientation": "v",
         "type": "bar",
         "uid": "7df2116b-8b2b-4684-b921-7fa57cd01eff",
         "x": [
          2015,
          2016,
          2017
         ],
         "y": [
          17289136.199998036,
          18871609.309998736,
          18451497.8199985
         ]
        }
       ],
       "layout": {
        "title": "Gasto Anual com Combustíveis",
        "xaxis": {
         "tickfont": {
          "size": 8
         },
         "title": "Ano"
        },
        "yaxis": {
         "autorange": true,
         "tickfont": {
          "size": 12
         },
         "title": "Gasto em R$"
        }
       }
      },
      "text/html": [
       "<div id=\"937046c3-5ae7-4dff-9f74-2c5336b6a108\" style=\"height: 525px; width: 100%;\" class=\"plotly-graph-div\"></div><script type=\"text/javascript\">require([\"plotly\"], function(Plotly) { window.PLOTLYENV=window.PLOTLYENV || {};window.PLOTLYENV.BASE_URL=\"https://plot.ly\";Plotly.newPlot(\"937046c3-5ae7-4dff-9f74-2c5336b6a108\", [{\"marker\": {\"color\": \"orange\"}, \"orientation\": \"v\", \"x\": [2015, 2016, 2017], \"y\": [17289136.199998036, 18871609.309998736, 18451497.8199985], \"type\": \"bar\", \"uid\": \"7df2116b-8b2b-4684-b921-7fa57cd01eff\"}], {\"title\": \"Gasto Anual com Combust\\u00edveis\", \"xaxis\": {\"tickfont\": {\"size\": 8}, \"title\": \"Ano\"}, \"yaxis\": {\"autorange\": true, \"tickfont\": {\"size\": 12}, \"title\": \"Gasto em R$\"}}, {\"showLink\": true, \"linkText\": \"Export to plot.ly\", \"plotlyServerURL\": \"https://plot.ly\"})});</script><script type=\"text/javascript\">window.addEventListener(\"resize\", function(){window._Plotly.Plots.resize(document.getElementById(\"937046c3-5ae7-4dff-9f74-2c5336b6a108\"));});</script>"
      ],
      "text/vnd.plotly.v1+html": [
       "<div id=\"937046c3-5ae7-4dff-9f74-2c5336b6a108\" style=\"height: 525px; width: 100%;\" class=\"plotly-graph-div\"></div><script type=\"text/javascript\">require([\"plotly\"], function(Plotly) { window.PLOTLYENV=window.PLOTLYENV || {};window.PLOTLYENV.BASE_URL=\"https://plot.ly\";Plotly.newPlot(\"937046c3-5ae7-4dff-9f74-2c5336b6a108\", [{\"marker\": {\"color\": \"orange\"}, \"orientation\": \"v\", \"x\": [2015, 2016, 2017], \"y\": [17289136.199998036, 18871609.309998736, 18451497.8199985], \"type\": \"bar\", \"uid\": \"7df2116b-8b2b-4684-b921-7fa57cd01eff\"}], {\"title\": \"Gasto Anual com Combust\\u00edveis\", \"xaxis\": {\"tickfont\": {\"size\": 8}, \"title\": \"Ano\"}, \"yaxis\": {\"autorange\": true, \"tickfont\": {\"size\": 12}, \"title\": \"Gasto em R$\"}}, {\"showLink\": true, \"linkText\": \"Export to plot.ly\", \"plotlyServerURL\": \"https://plot.ly\"})});</script><script type=\"text/javascript\">window.addEventListener(\"resize\", function(){window._Plotly.Plots.resize(document.getElementById(\"937046c3-5ae7-4dff-9f74-2c5336b6a108\"));});</script>"
      ]
     },
     "metadata": {},
     "output_type": "display_data"
    }
   ],
   "source": [
    "# Criando um dataset somente com gastos de combustíveis\n",
    "\n",
    "df_combustiveis = df_completo[df_completo.desc_despesa == 'COMBUSTÍVEIS E LUBRIFICANTES.']\n",
    "\n",
    "gasto_anual_combs_lubr = df_combustiveis.groupby('ano_despesa')['vlr_despesa'].sum()\n",
    "plot_bar(gasto_anual_combs_lubr, \"Gasto Anual com Combustíveis\",\n",
    "        \"Ano\", \"Gasto em R$\", 'orange')"
   ]
  },
  {
   "cell_type": "code",
   "execution_count": 43,
   "metadata": {
    "scrolled": false
   },
   "outputs": [
    {
     "data": {
      "application/vnd.plotly.v1+json": {
       "config": {
        "linkText": "Export to plot.ly",
        "plotlyServerURL": "https://plot.ly",
        "showLink": true
       },
       "data": [
        {
         "orientation": "v",
         "type": "scatter",
         "uid": "5ea2b542-2272-49ae-b485-5ac2856ac8b1",
         "x": [
          "2015-01-01",
          "2015-02-01",
          "2015-03-01",
          "2015-04-01",
          "2015-05-01",
          "2015-06-01",
          "2015-07-01",
          "2015-08-01",
          "2015-09-01",
          "2015-10-01",
          "2015-11-01",
          "2015-12-01",
          "2016-01-01",
          "2016-02-01",
          "2016-03-01",
          "2016-04-01",
          "2016-05-01",
          "2016-06-01",
          "2016-07-01",
          "2016-08-01",
          "2016-09-01",
          "2016-10-01",
          "2016-11-01",
          "2016-12-01",
          "2017-01-01",
          "2017-02-01",
          "2017-03-01",
          "2017-04-01",
          "2017-05-01",
          "2017-06-01",
          "2017-07-01",
          "2017-08-01",
          "2017-09-01",
          "2017-10-01",
          "2017-11-01",
          "2017-12-01"
         ],
         "y": [
          1086081.6500000048,
          1095652.3800000087,
          1418011.730000014,
          1470319.3400000143,
          1434200.530000013,
          1484641.3000000108,
          1377057.6900000111,
          1529649.4400000188,
          1651561.820000019,
          1685070.2700000135,
          1686714.6300000136,
          1370175.4200000095,
          1273184.640000009,
          1580745.5900000168,
          1760779.060000017,
          1627434.5000000102,
          1708163.3400000187,
          1712178.1700000197,
          1651369.3700000145,
          1699511.1700000162,
          1678908.2600000226,
          1503131.3700000092,
          1437506.0900000085,
          1238697.7500000065,
          1256569.3600000113,
          1376265.4900000102,
          1633849.0700000168,
          1525585.4400000125,
          1636469.040000016,
          1613288.1200000106,
          1576475.4600000132,
          1678129.220000016,
          1686653.4700000184,
          1647355.070000015,
          1527654.1800000146,
          1293203.9000000083
         ]
        }
       ],
       "layout": {
        "title": "Evolução dos gastos com combustíveis 2015 - 2017",
        "xaxis": {
         "tickfont": {
          "size": 10
         },
         "title": "Ano"
        },
        "yaxis": {
         "autorange": true,
         "tickfont": {
          "size": 12
         },
         "title": "Gastos em R$"
        }
       }
      },
      "text/html": [
       "<div id=\"f5e38693-d545-4ac2-a0b6-b3cd8aa4025c\" style=\"height: 525px; width: 100%;\" class=\"plotly-graph-div\"></div><script type=\"text/javascript\">require([\"plotly\"], function(Plotly) { window.PLOTLYENV=window.PLOTLYENV || {};window.PLOTLYENV.BASE_URL=\"https://plot.ly\";Plotly.newPlot(\"f5e38693-d545-4ac2-a0b6-b3cd8aa4025c\", [{\"orientation\": \"v\", \"x\": [\"2015-01-01\", \"2015-02-01\", \"2015-03-01\", \"2015-04-01\", \"2015-05-01\", \"2015-06-01\", \"2015-07-01\", \"2015-08-01\", \"2015-09-01\", \"2015-10-01\", \"2015-11-01\", \"2015-12-01\", \"2016-01-01\", \"2016-02-01\", \"2016-03-01\", \"2016-04-01\", \"2016-05-01\", \"2016-06-01\", \"2016-07-01\", \"2016-08-01\", \"2016-09-01\", \"2016-10-01\", \"2016-11-01\", \"2016-12-01\", \"2017-01-01\", \"2017-02-01\", \"2017-03-01\", \"2017-04-01\", \"2017-05-01\", \"2017-06-01\", \"2017-07-01\", \"2017-08-01\", \"2017-09-01\", \"2017-10-01\", \"2017-11-01\", \"2017-12-01\"], \"y\": [1086081.6500000048, 1095652.3800000087, 1418011.730000014, 1470319.3400000143, 1434200.530000013, 1484641.3000000108, 1377057.6900000111, 1529649.4400000188, 1651561.820000019, 1685070.2700000135, 1686714.6300000136, 1370175.4200000095, 1273184.640000009, 1580745.5900000168, 1760779.060000017, 1627434.5000000102, 1708163.3400000187, 1712178.1700000197, 1651369.3700000145, 1699511.1700000162, 1678908.2600000226, 1503131.3700000092, 1437506.0900000085, 1238697.7500000065, 1256569.3600000113, 1376265.4900000102, 1633849.0700000168, 1525585.4400000125, 1636469.040000016, 1613288.1200000106, 1576475.4600000132, 1678129.220000016, 1686653.4700000184, 1647355.070000015, 1527654.1800000146, 1293203.9000000083], \"type\": \"scatter\", \"uid\": \"5ea2b542-2272-49ae-b485-5ac2856ac8b1\"}], {\"title\": \"Evolu\\u00e7\\u00e3o dos gastos com combust\\u00edveis 2015 - 2017\", \"xaxis\": {\"tickfont\": {\"size\": 10}, \"title\": \"Ano\"}, \"yaxis\": {\"autorange\": true, \"tickfont\": {\"size\": 12}, \"title\": \"Gastos em R$\"}}, {\"showLink\": true, \"linkText\": \"Export to plot.ly\", \"plotlyServerURL\": \"https://plot.ly\"})});</script><script type=\"text/javascript\">window.addEventListener(\"resize\", function(){window._Plotly.Plots.resize(document.getElementById(\"f5e38693-d545-4ac2-a0b6-b3cd8aa4025c\"));});</script>"
      ],
      "text/vnd.plotly.v1+html": [
       "<div id=\"f5e38693-d545-4ac2-a0b6-b3cd8aa4025c\" style=\"height: 525px; width: 100%;\" class=\"plotly-graph-div\"></div><script type=\"text/javascript\">require([\"plotly\"], function(Plotly) { window.PLOTLYENV=window.PLOTLYENV || {};window.PLOTLYENV.BASE_URL=\"https://plot.ly\";Plotly.newPlot(\"f5e38693-d545-4ac2-a0b6-b3cd8aa4025c\", [{\"orientation\": \"v\", \"x\": [\"2015-01-01\", \"2015-02-01\", \"2015-03-01\", \"2015-04-01\", \"2015-05-01\", \"2015-06-01\", \"2015-07-01\", \"2015-08-01\", \"2015-09-01\", \"2015-10-01\", \"2015-11-01\", \"2015-12-01\", \"2016-01-01\", \"2016-02-01\", \"2016-03-01\", \"2016-04-01\", \"2016-05-01\", \"2016-06-01\", \"2016-07-01\", \"2016-08-01\", \"2016-09-01\", \"2016-10-01\", \"2016-11-01\", \"2016-12-01\", \"2017-01-01\", \"2017-02-01\", \"2017-03-01\", \"2017-04-01\", \"2017-05-01\", \"2017-06-01\", \"2017-07-01\", \"2017-08-01\", \"2017-09-01\", \"2017-10-01\", \"2017-11-01\", \"2017-12-01\"], \"y\": [1086081.6500000048, 1095652.3800000087, 1418011.730000014, 1470319.3400000143, 1434200.530000013, 1484641.3000000108, 1377057.6900000111, 1529649.4400000188, 1651561.820000019, 1685070.2700000135, 1686714.6300000136, 1370175.4200000095, 1273184.640000009, 1580745.5900000168, 1760779.060000017, 1627434.5000000102, 1708163.3400000187, 1712178.1700000197, 1651369.3700000145, 1699511.1700000162, 1678908.2600000226, 1503131.3700000092, 1437506.0900000085, 1238697.7500000065, 1256569.3600000113, 1376265.4900000102, 1633849.0700000168, 1525585.4400000125, 1636469.040000016, 1613288.1200000106, 1576475.4600000132, 1678129.220000016, 1686653.4700000184, 1647355.070000015, 1527654.1800000146, 1293203.9000000083], \"type\": \"scatter\", \"uid\": \"5ea2b542-2272-49ae-b485-5ac2856ac8b1\"}], {\"title\": \"Evolu\\u00e7\\u00e3o dos gastos com combust\\u00edveis 2015 - 2017\", \"xaxis\": {\"tickfont\": {\"size\": 10}, \"title\": \"Ano\"}, \"yaxis\": {\"autorange\": true, \"tickfont\": {\"size\": 12}, \"title\": \"Gastos em R$\"}}, {\"showLink\": true, \"linkText\": \"Export to plot.ly\", \"plotlyServerURL\": \"https://plot.ly\"})});</script><script type=\"text/javascript\">window.addEventListener(\"resize\", function(){window._Plotly.Plots.resize(document.getElementById(\"f5e38693-d545-4ac2-a0b6-b3cd8aa4025c\"));});</script>"
      ]
     },
     "metadata": {},
     "output_type": "display_data"
    }
   ],
   "source": [
    "# Criando um gráfico de linhas\n",
    "combustiveis = df_combustiveis.groupby('data')['vlr_despesa'].sum() #Agrupando os gastos por data\n",
    "\n",
    "# Gerando um dicionário e extraindo as chaves e os valores para usar no gráficos\n",
    "anuais = dict(combustiveis) \n",
    "x = combustiveis.values\n",
    "y = anuais.keys()\n",
    "y = list(y)\n",
    "\n",
    "data = [go.Line(x= list(y),\n",
    "                 y=x,\n",
    "               orientation= 'v')]\n",
    "\n",
    "# Determinando as características do gráfico\n",
    "layout = go.Layout(title='Evolução dos gastos com combustíveis 2015 - 2017', \n",
    "                   yaxis=dict(autorange=True, title= 'Gastos em R$',\n",
    "                              tickfont=dict(size=12)\n",
    "                             ), xaxis=dict(title='Ano', tickfont=dict(size=10)))\n",
    "\n",
    "\n",
    "\n",
    "fig = go.Figure(data=data, layout=layout)\n",
    "iplot(fig)"
   ]
  },
  {
   "cell_type": "markdown",
   "metadata": {},
   "source": [
    "De acordo com os gráficos acima, em 2017, houve uma redução no total geral de gastos com essa despesa. Observando a evolução, o pico desse gasto foi em março de 2016, atingindo 1.7mi. Considerando 2016 e 2017, parece que os gastos começam a cair em setembro até o final do ano.\n",
    "\n",
    "Olhando este intervalo de tempo, eu diria que os gastos estão crescendo, pois mesmo havendo uma queda em 2017 em relação à 2016, o volume total de gastos em 2017 ainda é maior que em 2015. "
   ]
  },
  {
   "cell_type": "markdown",
   "metadata": {},
   "source": [
    "Os gastos com combustíveis tem relação com o preço médio do combustível?\n",
    "\n",
    "O aumento com os gastos está relacionado ao preço do combustível em si, ou com a quantidade de solicitações de reembolso ?"
   ]
  },
  {
   "cell_type": "code",
   "execution_count": 44,
   "metadata": {},
   "outputs": [
    {
     "data": {
      "image/png": "[encoded data removed]",
      "text/plain": [
       "<Figure size 1296x720 with 1 Axes>"
      ]
     },
     "metadata": {
      "needs_background": "light"
     },
     "output_type": "display_data"
    }
   ],
   "source": [
    "# Criando um gráfico de linhas\n",
    "pedidos = df_combustiveis.data.value_counts() #Agrupando os gastos por data\n",
    "\n",
    "pedidos.plot(kind='line', title=\"Evolução da quantidade de pedidos\", figsize=(18,10))\n",
    "plt.xlabel(\"Ano\")\n",
    "plt.ylabel(\"Nº de Pedidos\");"
   ]
  },
  {
   "cell_type": "markdown",
   "metadata": {},
   "source": [
    "De acordo com o gráfico acima, o número de reembolsos cai, mas como vimos anteriormente, o valor não. \n",
    "\n",
    "\n",
    "Para essa análise, usarei os dados entre 2015 e 2017 dos dados sobre o preço do combustível, pois é o mesmo período que estamos analisando os gastos dos parlamentares."
   ]
  },
  {
   "cell_type": "code",
   "execution_count": 48,
   "metadata": {},
   "outputs": [
    {
     "data": {
      "text/html": [
       "<div>\n",
       "<style scoped>\n",
       "    .dataframe tbody tr th:only-of-type {\n",
       "        vertical-align: middle;\n",
       "    }\n",
       "\n",
       "    .dataframe tbody tr th {\n",
       "        vertical-align: top;\n",
       "    }\n",
       "\n",
       "    .dataframe thead th {\n",
       "        text-align: right;\n",
       "    }\n",
       "</style>\n",
       "<table border=\"1\" class=\"dataframe\">\n",
       "  <thead>\n",
       "    <tr style=\"text-align: right;\">\n",
       "      <th></th>\n",
       "      <th>mes</th>\n",
       "      <th>produto</th>\n",
       "      <th>regiao</th>\n",
       "      <th>estado</th>\n",
       "      <th>numero_de_postos_pesquisados</th>\n",
       "      <th>unidade_de_medida</th>\n",
       "      <th>preco_medio_revenda</th>\n",
       "      <th>desvio_padrao_revenda</th>\n",
       "      <th>preco_minimo_revenda</th>\n",
       "      <th>preco_maximo_revenda</th>\n",
       "      <th>margem_media_revenda</th>\n",
       "      <th>coef_de_variacao_revenda</th>\n",
       "      <th>preco_medio_distribuicao</th>\n",
       "      <th>desvio_padrao_distribuicao</th>\n",
       "      <th>preco_minimo_distribuicao</th>\n",
       "      <th>preco_maximo_distribuicao</th>\n",
       "      <th>coef_de_variacao_distribuicao</th>\n",
       "    </tr>\n",
       "    <tr>\n",
       "      <th>mes</th>\n",
       "      <th></th>\n",
       "      <th></th>\n",
       "      <th></th>\n",
       "      <th></th>\n",
       "      <th></th>\n",
       "      <th></th>\n",
       "      <th></th>\n",
       "      <th></th>\n",
       "      <th></th>\n",
       "      <th></th>\n",
       "      <th></th>\n",
       "      <th></th>\n",
       "      <th></th>\n",
       "      <th></th>\n",
       "      <th></th>\n",
       "      <th></th>\n",
       "      <th></th>\n",
       "    </tr>\n",
       "  </thead>\n",
       "  <tbody>\n",
       "    <tr>\n",
       "      <th>2015-01-01</th>\n",
       "      <td>2015-01-01</td>\n",
       "      <td>ETANOL HIDRATADO</td>\n",
       "      <td>NORTE</td>\n",
       "      <td>ACRE</td>\n",
       "      <td>92</td>\n",
       "      <td>R$/l</td>\n",
       "      <td>2.971</td>\n",
       "      <td>0.086</td>\n",
       "      <td>2.850</td>\n",
       "      <td>3.250</td>\n",
       "      <td>0.512</td>\n",
       "      <td>0.029</td>\n",
       "      <td>2.459</td>\n",
       "      <td>0.061</td>\n",
       "      <td>2.297</td>\n",
       "      <td>2.533</td>\n",
       "      <td>0.025</td>\n",
       "    </tr>\n",
       "    <tr>\n",
       "      <th>2015-01-01</th>\n",
       "      <td>2015-01-01</td>\n",
       "      <td>ETANOL HIDRATADO</td>\n",
       "      <td>NORDESTE</td>\n",
       "      <td>ALAGOAS</td>\n",
       "      <td>360</td>\n",
       "      <td>R$/l</td>\n",
       "      <td>2.503</td>\n",
       "      <td>0.113</td>\n",
       "      <td>2.200</td>\n",
       "      <td>2.770</td>\n",
       "      <td>0.382</td>\n",
       "      <td>0.045</td>\n",
       "      <td>2.121</td>\n",
       "      <td>0.104</td>\n",
       "      <td>1.872</td>\n",
       "      <td>2.437</td>\n",
       "      <td>0.049</td>\n",
       "    </tr>\n",
       "    <tr>\n",
       "      <th>2015-01-01</th>\n",
       "      <td>2015-01-01</td>\n",
       "      <td>ETANOL HIDRATADO</td>\n",
       "      <td>NORTE</td>\n",
       "      <td>AMAPA</td>\n",
       "      <td>7</td>\n",
       "      <td>R$/l</td>\n",
       "      <td>2.886</td>\n",
       "      <td>0.038</td>\n",
       "      <td>2.800</td>\n",
       "      <td>2.900</td>\n",
       "      <td>0.480</td>\n",
       "      <td>0.013</td>\n",
       "      <td>2.406</td>\n",
       "      <td>0.157</td>\n",
       "      <td>2.210</td>\n",
       "      <td>2.594</td>\n",
       "      <td>0.065</td>\n",
       "    </tr>\n",
       "    <tr>\n",
       "      <th>2015-01-01</th>\n",
       "      <td>2015-01-01</td>\n",
       "      <td>ETANOL HIDRATADO</td>\n",
       "      <td>NORTE</td>\n",
       "      <td>AMAZONAS</td>\n",
       "      <td>299</td>\n",
       "      <td>R$/l</td>\n",
       "      <td>2.589</td>\n",
       "      <td>0.153</td>\n",
       "      <td>2.450</td>\n",
       "      <td>3.320</td>\n",
       "      <td>0.226</td>\n",
       "      <td>0.059</td>\n",
       "      <td>2.363</td>\n",
       "      <td>0.052</td>\n",
       "      <td>2.174</td>\n",
       "      <td>2.496</td>\n",
       "      <td>0.022</td>\n",
       "    </tr>\n",
       "    <tr>\n",
       "      <th>2015-01-01</th>\n",
       "      <td>2015-01-01</td>\n",
       "      <td>ETANOL HIDRATADO</td>\n",
       "      <td>NORDESTE</td>\n",
       "      <td>BAHIA</td>\n",
       "      <td>1595</td>\n",
       "      <td>R$/l</td>\n",
       "      <td>2.416</td>\n",
       "      <td>0.166</td>\n",
       "      <td>1.950</td>\n",
       "      <td>2.899</td>\n",
       "      <td>0.474</td>\n",
       "      <td>0.069</td>\n",
       "      <td>1.942</td>\n",
       "      <td>0.110</td>\n",
       "      <td>1.695</td>\n",
       "      <td>2.315</td>\n",
       "      <td>0.057</td>\n",
       "    </tr>\n",
       "  </tbody>\n",
       "</table>\n",
       "</div>"
      ],
      "text/plain": [
       "                  mes           produto    regiao    estado  \\\n",
       "mes                                                           \n",
       "2015-01-01 2015-01-01  ETANOL HIDRATADO     NORTE      ACRE   \n",
       "2015-01-01 2015-01-01  ETANOL HIDRATADO  NORDESTE   ALAGOAS   \n",
       "2015-01-01 2015-01-01  ETANOL HIDRATADO     NORTE     AMAPA   \n",
       "2015-01-01 2015-01-01  ETANOL HIDRATADO     NORTE  AMAZONAS   \n",
       "2015-01-01 2015-01-01  ETANOL HIDRATADO  NORDESTE     BAHIA   \n",
       "\n",
       "            numero_de_postos_pesquisados unidade_de_medida  \\\n",
       "mes                                                          \n",
       "2015-01-01                            92              R$/l   \n",
       "2015-01-01                           360              R$/l   \n",
       "2015-01-01                             7              R$/l   \n",
       "2015-01-01                           299              R$/l   \n",
       "2015-01-01                          1595              R$/l   \n",
       "\n",
       "            preco_medio_revenda  desvio_padrao_revenda  preco_minimo_revenda  \\\n",
       "mes                                                                            \n",
       "2015-01-01                2.971                  0.086                 2.850   \n",
       "2015-01-01                2.503                  0.113                 2.200   \n",
       "2015-01-01                2.886                  0.038                 2.800   \n",
       "2015-01-01                2.589                  0.153                 2.450   \n",
       "2015-01-01                2.416                  0.166                 1.950   \n",
       "\n",
       "            preco_maximo_revenda margem_media_revenda  \\\n",
       "mes                                                     \n",
       "2015-01-01                 3.250                0.512   \n",
       "2015-01-01                 2.770                0.382   \n",
       "2015-01-01                 2.900                0.480   \n",
       "2015-01-01                 3.320                0.226   \n",
       "2015-01-01                 2.899                0.474   \n",
       "\n",
       "            coef_de_variacao_revenda preco_medio_distribuicao  \\\n",
       "mes                                                             \n",
       "2015-01-01                     0.029                    2.459   \n",
       "2015-01-01                     0.045                    2.121   \n",
       "2015-01-01                     0.013                    2.406   \n",
       "2015-01-01                     0.059                    2.363   \n",
       "2015-01-01                     0.069                    1.942   \n",
       "\n",
       "           desvio_padrao_distribuicao preco_minimo_distribuicao  \\\n",
       "mes                                                               \n",
       "2015-01-01                      0.061                     2.297   \n",
       "2015-01-01                      0.104                     1.872   \n",
       "2015-01-01                      0.157                     2.210   \n",
       "2015-01-01                      0.052                     2.174   \n",
       "2015-01-01                      0.110                     1.695   \n",
       "\n",
       "           preco_maximo_distribuicao coef_de_variacao_distribuicao  \n",
       "mes                                                                 \n",
       "2015-01-01                     2.533                         0.025  \n",
       "2015-01-01                     2.437                         0.049  \n",
       "2015-01-01                     2.594                         0.065  \n",
       "2015-01-01                     2.496                         0.022  \n",
       "2015-01-01                     2.315                         0.057  "
      ]
     },
     "execution_count": 48,
     "metadata": {},
     "output_type": "execute_result"
    }
   ],
   "source": [
    "import unidecode # Módulo que uso para remover os acentos do nome das colunas\n",
    "df_anp = pd.read_excel('custo_mensal_combustivel_desde_2013.xlsx')\n",
    "\n",
    "# Ajustando as colunas\n",
    "colunas = df_anp.columns\n",
    "colunas = [cols.replace(' ', '_') for cols in colunas] # Retirando os espaços\n",
    "colunas = [cols.lower() for cols in colunas] # Colocando em caixa baixa\n",
    "colunas = [unidecode.unidecode(cols) for cols in colunas] # Retirando os acentos das colunas\n",
    "df_anp.columns = colunas    # Substituindo as colunas\n",
    "\n",
    "# Selecionando somente gasolina e etanol\n",
    "df_anp = df_anp[df_anp['produto'].isin(['GASOLINA COMUM', 'ETANOL HIDRATADO'])==True] # Selecionando só etanol e gasolina\n",
    "df_anp.reset_index(drop=True, inplace=True)\n",
    "\n",
    "# Selecionando somente o período que iremos analisar\n",
    "df_anp.set_index(df_anp.mes, drop=True, inplace=True) # Determinando o mês como índice do dataset\n",
    "df_anp_15_17 = df_anp[\"2015\":\"2017\"] # Selecionando o período que iremos analisar\n",
    "\n",
    "\n",
    "\n",
    "df_anp_15_17.head()"
   ]
  },
  {
   "cell_type": "markdown",
   "metadata": {},
   "source": [
    "Como já temos este conjunto de dados carregado, não custa nada conhecer um pouco melhor o valor do combustível no nosso país.\n",
    "\n",
    "Vamos dar uma olhada na evolução do preço médio do combustível:"
   ]
  },
  {
   "cell_type": "code",
   "execution_count": 49,
   "metadata": {},
   "outputs": [
    {
     "data": {
      "application/vnd.plotly.v1+json": {
       "config": {
        "linkText": "Export to plot.ly",
        "plotlyServerURL": "https://plot.ly",
        "showLink": true
       },
       "data": [
        {
         "orientation": "v",
         "type": "scatter",
         "uid": "bc707f79-9f62-419e-b659-5e18eb07f609",
         "x": [
          "2015-01-01",
          "2015-02-01",
          "2015-03-01",
          "2015-04-01",
          "2015-05-01",
          "2015-06-01",
          "2015-07-01",
          "2015-08-01",
          "2015-09-01",
          "2015-10-01",
          "2015-11-01",
          "2015-12-01",
          "2016-01-01",
          "2016-02-01",
          "2016-03-01",
          "2016-04-01",
          "2016-05-01",
          "2016-06-01",
          "2016-07-01",
          "2016-08-01",
          "2016-09-01",
          "2016-10-01",
          "2016-11-01",
          "2016-12-01",
          "2017-01-01",
          "2017-02-01",
          "2017-03-01",
          "2017-04-01",
          "2017-05-01",
          "2017-06-01",
          "2017-07-01",
          "2017-08-01",
          "2017-09-01",
          "2017-10-01",
          "2017-11-01",
          "2017-12-01"
         ],
         "y": [
          2.7807222222222214,
          2.971722222222222,
          2.994370370370371,
          2.985592592592592,
          2.9675555555555553,
          2.9618148148148133,
          2.9599629629629627,
          2.9645,
          2.943333333333333,
          3.1189259259259274,
          3.241481481481483,
          3.3339259259259255,
          3.4051320754716983,
          3.47288679245283,
          3.519296296296296,
          3.5244074074074083,
          3.442314814814815,
          3.3893584905660377,
          3.3837037037037025,
          3.384722222222222,
          3.3851296296296307,
          3.4141296296296293,
          3.446962962962963,
          3.499925925925927,
          3.5445370370370366,
          3.549203703703705,
          3.49512962962963,
          3.447444444444446,
          3.416888888888889,
          3.3575925925925922,
          3.33312962962963,
          3.4850943396226413,
          3.543735849056604,
          3.550584905660378,
          3.620518518518518,
          3.6602962962962966
         ]
        }
       ],
       "layout": {
        "title": "Preço médio combustível (R$/l)",
        "xaxis": {
         "tickfont": {
          "size": 10
         },
         "title": "Ano"
        },
        "yaxis": {
         "autorange": true,
         "tickfont": {
          "size": 12
         },
         "title": "Preço em R$"
        }
       }
      },
      "text/html": [
       "<div id=\"f8763962-48d9-427b-bd9a-7a008c624959\" style=\"height: 525px; width: 100%;\" class=\"plotly-graph-div\"></div><script type=\"text/javascript\">require([\"plotly\"], function(Plotly) { window.PLOTLYENV=window.PLOTLYENV || {};window.PLOTLYENV.BASE_URL=\"https://plot.ly\";Plotly.newPlot(\"f8763962-48d9-427b-bd9a-7a008c624959\", [{\"orientation\": \"v\", \"x\": [\"2015-01-01\", \"2015-02-01\", \"2015-03-01\", \"2015-04-01\", \"2015-05-01\", \"2015-06-01\", \"2015-07-01\", \"2015-08-01\", \"2015-09-01\", \"2015-10-01\", \"2015-11-01\", \"2015-12-01\", \"2016-01-01\", \"2016-02-01\", \"2016-03-01\", \"2016-04-01\", \"2016-05-01\", \"2016-06-01\", \"2016-07-01\", \"2016-08-01\", \"2016-09-01\", \"2016-10-01\", \"2016-11-01\", \"2016-12-01\", \"2017-01-01\", \"2017-02-01\", \"2017-03-01\", \"2017-04-01\", \"2017-05-01\", \"2017-06-01\", \"2017-07-01\", \"2017-08-01\", \"2017-09-01\", \"2017-10-01\", \"2017-11-01\", \"2017-12-01\"], \"y\": [2.7807222222222214, 2.971722222222222, 2.994370370370371, 2.985592592592592, 2.9675555555555553, 2.9618148148148133, 2.9599629629629627, 2.9645, 2.943333333333333, 3.1189259259259274, 3.241481481481483, 3.3339259259259255, 3.4051320754716983, 3.47288679245283, 3.519296296296296, 3.5244074074074083, 3.442314814814815, 3.3893584905660377, 3.3837037037037025, 3.384722222222222, 3.3851296296296307, 3.4141296296296293, 3.446962962962963, 3.499925925925927, 3.5445370370370366, 3.549203703703705, 3.49512962962963, 3.447444444444446, 3.416888888888889, 3.3575925925925922, 3.33312962962963, 3.4850943396226413, 3.543735849056604, 3.550584905660378, 3.620518518518518, 3.6602962962962966], \"type\": \"scatter\", \"uid\": \"bc707f79-9f62-419e-b659-5e18eb07f609\"}], {\"title\": \"Pre\\u00e7o m\\u00e9dio combust\\u00edvel (R$/l)\", \"xaxis\": {\"tickfont\": {\"size\": 10}, \"title\": \"Ano\"}, \"yaxis\": {\"autorange\": true, \"tickfont\": {\"size\": 12}, \"title\": \"Pre\\u00e7o em R$\"}}, {\"showLink\": true, \"linkText\": \"Export to plot.ly\", \"plotlyServerURL\": \"https://plot.ly\"})});</script><script type=\"text/javascript\">window.addEventListener(\"resize\", function(){window._Plotly.Plots.resize(document.getElementById(\"f8763962-48d9-427b-bd9a-7a008c624959\"));});</script>"
      ],
      "text/vnd.plotly.v1+html": [
       "<div id=\"f8763962-48d9-427b-bd9a-7a008c624959\" style=\"height: 525px; width: 100%;\" class=\"plotly-graph-div\"></div><script type=\"text/javascript\">require([\"plotly\"], function(Plotly) { window.PLOTLYENV=window.PLOTLYENV || {};window.PLOTLYENV.BASE_URL=\"https://plot.ly\";Plotly.newPlot(\"f8763962-48d9-427b-bd9a-7a008c624959\", [{\"orientation\": \"v\", \"x\": [\"2015-01-01\", \"2015-02-01\", \"2015-03-01\", \"2015-04-01\", \"2015-05-01\", \"2015-06-01\", \"2015-07-01\", \"2015-08-01\", \"2015-09-01\", \"2015-10-01\", \"2015-11-01\", \"2015-12-01\", \"2016-01-01\", \"2016-02-01\", \"2016-03-01\", \"2016-04-01\", \"2016-05-01\", \"2016-06-01\", \"2016-07-01\", \"2016-08-01\", \"2016-09-01\", \"2016-10-01\", \"2016-11-01\", \"2016-12-01\", \"2017-01-01\", \"2017-02-01\", \"2017-03-01\", \"2017-04-01\", \"2017-05-01\", \"2017-06-01\", \"2017-07-01\", \"2017-08-01\", \"2017-09-01\", \"2017-10-01\", \"2017-11-01\", \"2017-12-01\"], \"y\": [2.7807222222222214, 2.971722222222222, 2.994370370370371, 2.985592592592592, 2.9675555555555553, 2.9618148148148133, 2.9599629629629627, 2.9645, 2.943333333333333, 3.1189259259259274, 3.241481481481483, 3.3339259259259255, 3.4051320754716983, 3.47288679245283, 3.519296296296296, 3.5244074074074083, 3.442314814814815, 3.3893584905660377, 3.3837037037037025, 3.384722222222222, 3.3851296296296307, 3.4141296296296293, 3.446962962962963, 3.499925925925927, 3.5445370370370366, 3.549203703703705, 3.49512962962963, 3.447444444444446, 3.416888888888889, 3.3575925925925922, 3.33312962962963, 3.4850943396226413, 3.543735849056604, 3.550584905660378, 3.620518518518518, 3.6602962962962966], \"type\": \"scatter\", \"uid\": \"bc707f79-9f62-419e-b659-5e18eb07f609\"}], {\"title\": \"Pre\\u00e7o m\\u00e9dio combust\\u00edvel (R$/l)\", \"xaxis\": {\"tickfont\": {\"size\": 10}, \"title\": \"Ano\"}, \"yaxis\": {\"autorange\": true, \"tickfont\": {\"size\": 12}, \"title\": \"Pre\\u00e7o em R$\"}}, {\"showLink\": true, \"linkText\": \"Export to plot.ly\", \"plotlyServerURL\": \"https://plot.ly\"})});</script><script type=\"text/javascript\">window.addEventListener(\"resize\", function(){window._Plotly.Plots.resize(document.getElementById(\"f8763962-48d9-427b-bd9a-7a008c624959\"));});</script>"
      ]
     },
     "metadata": {},
     "output_type": "display_data"
    }
   ],
   "source": [
    "\n",
    "\n",
    "# Plotagem\n",
    "preco = df_anp_15_17.groupby('mes')['preco_medio_revenda'].mean()\n",
    "\n",
    "anuais = dict(preco)\n",
    "x = preco.values\n",
    "y = anuais.keys()\n",
    "y = list(y)\n",
    "\n",
    "data = [go.Line(x= list(y),\n",
    "                 y=x,\n",
    "               orientation= 'v')]\n",
    "\n",
    "layout = go.Layout(title='Preço médio combustível (R$/l)', \n",
    "                   yaxis=dict(autorange=True, title= 'Preço em R$',\n",
    "                              tickfont=dict(size=12)\n",
    "                             ), xaxis=dict(title='Ano', tickfont=dict(size=10)))\n",
    "\n",
    "\n",
    "\n",
    "fig = go.Figure(data=data, layout=layout)\n",
    "iplot(fig)"
   ]
  },
  {
   "cell_type": "markdown",
   "metadata": {},
   "source": [
    "De setembro de 2015 à março de 2016 houve uma subida vertiginosa no preço do combustível. Passando por um período de queda entre abril e junho de 2016, mas vemos nova subida a partir de setembro do mesmo ano. É clara a tendêcia de alta do combustível. \n"
   ]
  },
  {
   "cell_type": "code",
   "execution_count": 51,
   "metadata": {},
   "outputs": [
    {
     "data": {
      "image/png": "[encoded data removed]",
      "text/plain": [
       "<Figure size 1080x720 with 1 Axes>"
      ]
     },
     "metadata": {
      "needs_background": "light"
     },
     "output_type": "display_data"
    }
   ],
   "source": [
    "preco_por_produto = df_anp_15_17.groupby(['mes', 'produto'])['preco_medio_revenda'].mean()\n",
    "preco_por_produto = preco_por_produto.unstack('produto')\n",
    "\n",
    "preco_por_produto.plot(figsize=(15,10))\n",
    "plt.title('Evolução Preço médio do litro Gasolina e Etanol')\n",
    "plt.ylabel(\"Preço em R$\");"
   ]
  },
  {
   "cell_type": "markdown",
   "metadata": {},
   "source": [
    "Embora o etanol seja consideravelmente mais barato que a gasolina, ambos seguem a mesma tendência de alta. A gasolina supera a barreira dos quatro reais. "
   ]
  },
  {
   "cell_type": "markdown",
   "metadata": {},
   "source": [
    "Esse é o conjunto de dados que usaremos para investigar a relação entre o preço do combustível e o valor de reembolso dos deputados. Reparem que criei uma nova coluna que se chama \"tempo\", fiz isso pois quero ver como a passagem do tempo influencia na variação dos preços e dos gastos dos parlamentares. \n",
    "\n",
    "Cada número indica o mês de um ano, por exemplo, 1 representa2 janeiro de 2015, 2 fevereiro de 2015 e assim sucessivamente."
   ]
  },
  {
   "cell_type": "code",
   "execution_count": 53,
   "metadata": {},
   "outputs": [
    {
     "data": {
      "text/html": [
       "<div>\n",
       "<style scoped>\n",
       "    .dataframe tbody tr th:only-of-type {\n",
       "        vertical-align: middle;\n",
       "    }\n",
       "\n",
       "    .dataframe tbody tr th {\n",
       "        vertical-align: top;\n",
       "    }\n",
       "\n",
       "    .dataframe thead th {\n",
       "        text-align: right;\n",
       "    }\n",
       "</style>\n",
       "<table border=\"1\" class=\"dataframe\">\n",
       "  <thead>\n",
       "    <tr style=\"text-align: right;\">\n",
       "      <th></th>\n",
       "      <th>vlr_despesa</th>\n",
       "      <th>qtd_pedidos</th>\n",
       "      <th>preco_combustivel</th>\n",
       "      <th>tempo</th>\n",
       "    </tr>\n",
       "    <tr>\n",
       "      <th>data</th>\n",
       "      <th></th>\n",
       "      <th></th>\n",
       "      <th></th>\n",
       "      <th></th>\n",
       "    </tr>\n",
       "  </thead>\n",
       "  <tbody>\n",
       "    <tr>\n",
       "      <th>2015-01-01</th>\n",
       "      <td>1086081.650</td>\n",
       "      <td>3430</td>\n",
       "      <td>2.781</td>\n",
       "      <td>1</td>\n",
       "    </tr>\n",
       "    <tr>\n",
       "      <th>2015-02-01</th>\n",
       "      <td>1095652.380</td>\n",
       "      <td>4730</td>\n",
       "      <td>2.972</td>\n",
       "      <td>2</td>\n",
       "    </tr>\n",
       "    <tr>\n",
       "      <th>2015-03-01</th>\n",
       "      <td>1418011.730</td>\n",
       "      <td>6522</td>\n",
       "      <td>2.994</td>\n",
       "      <td>3</td>\n",
       "    </tr>\n",
       "    <tr>\n",
       "      <th>2015-04-01</th>\n",
       "      <td>1470319.340</td>\n",
       "      <td>6601</td>\n",
       "      <td>2.986</td>\n",
       "      <td>4</td>\n",
       "    </tr>\n",
       "    <tr>\n",
       "      <th>2015-05-01</th>\n",
       "      <td>1434200.530</td>\n",
       "      <td>6837</td>\n",
       "      <td>2.968</td>\n",
       "      <td>5</td>\n",
       "    </tr>\n",
       "  </tbody>\n",
       "</table>\n",
       "</div>"
      ],
      "text/plain": [
       "            vlr_despesa  qtd_pedidos  preco_combustivel  tempo\n",
       "data                                                          \n",
       "2015-01-01  1086081.650         3430              2.781      1\n",
       "2015-02-01  1095652.380         4730              2.972      2\n",
       "2015-03-01  1418011.730         6522              2.994      3\n",
       "2015-04-01  1470319.340         6601              2.986      4\n",
       "2015-05-01  1434200.530         6837              2.968      5"
      ]
     },
     "execution_count": 53,
     "metadata": {},
     "output_type": "execute_result"
    }
   ],
   "source": [
    "# Criando o dataframe que permitirá realizar as análises de correlação\n",
    "\n",
    "df_combustiveis_2 = pd.DataFrame(df_combustiveis.groupby(\"data\")[\"vlr_despesa\"].sum())\n",
    "df_combustiveis_2['qtd_pedidos'] = df_combustiveis.data.value_counts()\n",
    "df_combustiveis_2['preco_combustivel'] = preco\n",
    "df_combustiveis_2['tempo'] = range(1,37)\n",
    "df_combustiveis_2.head()"
   ]
  },
  {
   "cell_type": "markdown",
   "metadata": {},
   "source": [
    "Agora iremos utilizar a biblioteca seaborn para visualizar as relações que pretendemos explorar. Essas bilbioteca é extremamente útil para explorar os dados considerando métricas estatísticas mais avançadas. O seu uso permite facilmente entender a correlação entre os atributos de um dataset através de uma simples linha de comando. \n",
    "\n",
    "Certamente uma das minhas bibliotecas favoritas !\n",
    "\n",
    "Primeiro, iremos plotar um heatmap indicando a correlação das variáeis do nosso recém-criado conjunto de dados. Abaixo o código usado, para ilustrar como é simples usá-la !"
   ]
  },
  {
   "cell_type": "code",
   "execution_count": 54,
   "metadata": {},
   "outputs": [
    {
     "data": {
      "image/png": "[encoded data removed]",
      "text/plain": [
       "<Figure size 720x576 with 2 Axes>"
      ]
     },
     "metadata": {
      "needs_background": "light"
     },
     "output_type": "display_data"
    }
   ],
   "source": [
    "corr = df_combustiveis_2.corr() # Calcula a correlação e armazena em uma variável\n",
    "\n",
    "# Configurações do gráfico\n",
    "plt.figure(figsize=(10,8))\n",
    "plt.title(\"Correlações\")\n",
    "\n",
    "# Plotando um heatmap\n",
    "sns.heatmap(corr, annot=True, cmap='Blues');"
   ]
  },
  {
   "cell_type": "markdown",
   "metadata": {},
   "source": [
    "Vamos analisar o gráfico acima, mas antes, é importante entender a definição de correlação. A melhor definição que encontrei durante meus estudos é a descrita por Charles Wheelan em seu excelente livro [\"Estatística: O que é, pra que serve e como funciona\"](https://www.saraiva.com.br/estatistica--o-que-e-para-que-serve-como-funciona-9277415.html?pac_id=136793&gclid=Cj0KCQiA68bhBRCKARIsABYUGifj4eC5KfouoT5e72ZVLRl-fBoe0I2l8GoNqFGIRcsecm6Jp7mgNGcaAt7bEALw_wcB) a qual transcrevo a seguir:\n",
    "\n",
    "*\" A correlação mede o grau em que dois fenômenos estão relacionados entre si. Por exemplo, existe correlação entre as temperaturas de verão e a venda de sorvetes. Quando uma sobe, a outra sobe também. Duas variáveis tem correlação positiva se uma variação numa delas é associada a uma variação da outra no mesmo sentido(...). Uma correlação é negativa se uma variação positiva em numa das variáveis, está associada a uma variação negativa na outra, tal qual exercício e perda de peso.\"*\n",
    "\n",
    "O valor da correlação sempre varia entre -1 e 1, sendo que valores negativos indicam correlações negativas e valores positivos correlações positivas. \n",
    "\n",
    "Com isso em mente, as conclusões que podemos tirar do gráfico acima, são:\n",
    "\n",
    "1. A relação entre gastos com combustíveis está positivamente relacionada com o número de pedidos. Ou seja, quando um aumenta, o outro também. O valor da correlação é de 0.86, portanto essa relação é muito forte!\n",
    "\n",
    "\n",
    "\n",
    "2. A correlação entre gastos com combustíveis e o preço médio do combustível também é positiva, indicando que o aumento do combustível também influencia no aumento dos gastos dos parlamentares com essa rubrica. Entretanto, o valor da correlação é baixo, apenas 0.30, indicando uma correlação baixa;\n",
    "\n",
    "\n",
    "\n",
    "3. Também é possível observar uma correlação positiva fraca(0.29) com o tempo, indicando que os gastos tendem a aumentar a medida que o tempo passa, ou seja, podemos esperar valores maiores com estes gastos nos próximos meses;\n",
    "\n",
    "\n",
    "\n",
    "4. Quando plotamos o número de pedidos de reembolso ao longo do tempo, vimos uma pequena queda. Essa queda é refletida em uma correlação de 0.09, ou seja, quase inexistente.\n",
    "\n",
    "\n",
    "\n",
    "5. Outro ponto que chama atenção é a forte correlação entre o preço do combustível e o tempo, como vimos anteriormente, o preço está em uma ascendente desde 2015 o que se reflete na correlçao positiva de 0.85.\n",
    "\n",
    "Como disse, o seaborn é uma poderosa ferramenta de análise estatística, para ilustrar de forma ainda mais clara essas relações, podemos usar a função `pairplot` que gera uma matriz exibindo a correlação das variáveis através de gráficos de dispersão. Mais uma vez, esse trabalho pode ser feito com uma única linha de código:"
   ]
  },
  {
   "cell_type": "code",
   "execution_count": 55,
   "metadata": {},
   "outputs": [
    {
     "data": {
      "image/png": "[encoded data removed]",
      "text/plain": [
       "<Figure size 720x720 with 20 Axes>"
      ]
     },
     "metadata": {
      "needs_background": "light"
     },
     "output_type": "display_data"
    }
   ],
   "source": [
    "sns.pairplot(df_combustiveis_2);"
   ]
  },
  {
   "cell_type": "markdown",
   "metadata": {},
   "source": [
    "# Conclusão"
   ]
  },
  {
   "cell_type": "markdown",
   "metadata": {},
   "source": [
    "Durante a minha análise confesso que fiquei surpreso e não fazia ideia do valor dos gastos com cotas. Este valor exorbitante ainda é completado por um salário de mais de 30 mil reais, auxílio moradia e verba de gabinete de quase 100 mil reais. Isso sem contar que trabalham apenas 3 dias por semana e entre agosto e dezembro eles não trabalham (mas continuam gastando com a verba parlamentar).\n",
    "\n",
    "Por estes e outros motivos é que podemos explicar o por que a política no nosso país é na verdade uma carreira. Os políticos são uma classe extremamente privilegiada. Obviamente, eles precisam de ajuda de custos para executar seu trabalho, mas a questão é: Será que todo esse dinheiro é realmente gasto para a finalidade do exercício de suas atividades? Eles precisam realmente de salários tão altos ? E por que os gastos nunca reduzem?\n",
    "\n",
    "Enquanto isso, o país ainda sofre tentando se recuperar de sua maior recessão, o salário mínimo não atingiu sequer mil reais e o desemprego atinge milhões de brasileiros honestos.\n",
    "\n",
    "A despeito de todas essas outras questões ao longo dessa análise aprendemos um pouco a respeito desses gastos, entendemos o conceito de correlação e descobrimos que a elevação dos gastos com combustíveis, depende muito mais da conscietização dos nosso parlamentares do que de qualquer outro fator levado em conta nessa análise. \n",
    "\n",
    "Se você acompanhou me acompanhou até aqui, agradeço imensamente e espero que tenha gostado. O trabalho continua, pois o caminhos dos dados é longo e em breve nos veremos aqui novamente. \n"
   ]
  }
 ],
 "metadata": {
  "hide_input": false,
  "kernelspec": {
   "display_name": "Python 3",
   "language": "python",
   "name": "python3"
  },
  "language_info": {
   "codemirror_mode": {
    "name": "ipython",
    "version": 3
   },
   "file_extension": ".py",
   "mimetype": "text/x-python",
   "name": "python",
   "nbconvert_exporter": "python",
   "pygments_lexer": "ipython3",
   "version": "3.6.6"
  },
  "nbTranslate": {
   "displayLangs": [],
   "hotkey": "alt-t",
   "langInMainMenu": true,
   "sourceLang": "pt",
   "targetLang": "en",
   "useGoogleTranslate": true
  },
  "toc": {
   "base_numbering": 1,
   "nav_menu": {
    "height": "225px",
    "width": "610px"
   },
   "number_sections": true,
   "sideBar": true,
   "skip_h1_title": false,
   "title_cell": "Índice",
   "title_sidebar": "Contents",
   "toc_cell": true,
   "toc_position": {
    "height": "calc(100% - 180px)",
    "left": "10px",
    "top": "150px",
    "width": "274.2px"
   },
   "toc_section_display": true,
   "toc_window_display": true
  },
  "varInspector": {
   "cols": {
    "lenName": 16,
    "lenType": 16,
    "lenVar": 40
   },
   "kernels_config": {
    "python": {
     "delete_cmd_postfix": "",
     "delete_cmd_prefix": "del ",
     "library": "var_list.py",
     "varRefreshCmd": "print(var_dic_list())"
    },
    "r": {
     "delete_cmd_postfix": ") ",
     "delete_cmd_prefix": "rm(",
     "library": "var_list.r",
     "varRefreshCmd": "cat(var_dic_list()) "
    }
   },
   "oldHeight": 122.85,
   "position": {
    "height": "144.85px",
    "left": "996px",
    "right": "20px",
    "top": "120px",
    "width": "350px"
   },
   "types_to_exclude": [
    "module",
    "function",
    "builtin_function_or_method",
    "instance",
    "_Feature"
   ],
   "varInspector_section_display": "block",
   "window_display": false
  }
 },
 "nbformat": 4,
 "nbformat_minor": 2
}
